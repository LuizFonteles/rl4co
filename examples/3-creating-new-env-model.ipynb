{
  "cells": [
    {
      "cell_type": "markdown",
      "metadata": {
        "id": "z_Y7RhmFpamF"
      },
      "source": [
        "# New Environment: Creating and Modeling\n",
        "<!--\n",
        "<a href=\"https://colab.research.google.com/github/ai4co/rl4co/blob/main/examples/3-creating-new-env-model.ipynb\"><img src=\"https://colab.research.google.com/assets/colab-badge.svg\" alt=\"Open In Colab\"></a>\n",
        "\n",
        "[**Documentation**](https://rl4co.readthedocs.io/) |  [**Getting Started**](https://github.com/ai4co/rl4co/tree/main#getting-started) | [**Usage**](https://github.com/ai4co/rl4co/tree/main#usage) | [**Contributing**](#contributing) | [**Paper**](https://arxiv.org/abs/2306.17100) | [**Citation**](#cite-us) -->"
      ]
    },
    {
      "cell_type": "markdown",
      "metadata": {
        "id": "_NdDQ_q1pamH"
      },
      "source": [
        "In this notebook, we will show how to extend RL4CO to solve new problems from zero to hero! 🚀\n",
        "\n",
        "<a href=\"https://colab.research.google.com/github/ai4co/rl4co/blob/main/examples/3-creating-new-env-model.ipynb\"><img src=\"https://colab.research.google.com/assets/colab-badge.svg\" alt=\"Open In Colab\"></a>\n",
        "\n",
        "### Contents\n",
        "\n",
        "1. [Environment](#environment-creation)\n",
        "2. [Modeling](#modeling)\n",
        "3. [Training](#training-our-model)\n",
        "4. [Evaluation](#evaluation)\n"
      ]
    },
    {
      "cell_type": "markdown",
      "metadata": {
        "id": "PU_XwDM1pamJ"
      },
      "source": [
        "### Problem: TSP\n",
        "\n",
        "We will build an environment and model for the Traveling Salesman Problem (TSP). The TSP is a well-known combinatorial optimization problem that consists of finding the shortest route that visits each city in a given list exactly once and returns to the origin city. The TSP is NP-hard, and it is one of the most studied problems in combinatorial optimization."
      ]
    },
    {
      "cell_type": "markdown",
      "metadata": {
        "id": "XEkS_R6OpamK"
      },
      "source": [
        "### Installation"
      ]
    },
    {
      "cell_type": "code",
      "execution_count": 1,
      "metadata": {
        "colab": {
          "base_uri": "https://localhost:8080/"
        },
        "id": "UINjvfpYpamK",
        "outputId": "6a24c9a9-08a5-474e-8140-6a689d8aa9ac"
      },
      "outputs": [
        {
          "output_type": "stream",
          "name": "stdout",
          "text": [
            "Requirement already satisfied: rl4co in /usr/local/lib/python3.11/dist-packages (0.6.0)\n",
            "Requirement already satisfied: einops in /usr/local/lib/python3.11/dist-packages (from rl4co) (0.8.1)\n",
            "Requirement already satisfied: hydra-colorlog in /usr/local/lib/python3.11/dist-packages (from rl4co) (1.2.0)\n",
            "Requirement already satisfied: hydra-core in /usr/local/lib/python3.11/dist-packages (from rl4co) (1.3.2)\n",
            "Requirement already satisfied: lightning>=2.1.0 in /usr/local/lib/python3.11/dist-packages (from rl4co) (2.5.2)\n",
            "Requirement already satisfied: matplotlib in /usr/local/lib/python3.11/dist-packages (from rl4co) (3.10.0)\n",
            "Requirement already satisfied: omegaconf in /usr/local/lib/python3.11/dist-packages (from rl4co) (2.3.0)\n",
            "Requirement already satisfied: pyrootutils in /usr/local/lib/python3.11/dist-packages (from rl4co) (1.0.4)\n",
            "Requirement already satisfied: rich in /usr/local/lib/python3.11/dist-packages (from rl4co) (13.9.4)\n",
            "Requirement already satisfied: robust-downloader in /usr/local/lib/python3.11/dist-packages (from rl4co) (0.0.2)\n",
            "Requirement already satisfied: scipy in /usr/local/lib/python3.11/dist-packages (from rl4co) (1.15.3)\n",
            "Requirement already satisfied: tensordict>=0.6.0 in /usr/local/lib/python3.11/dist-packages (from rl4co) (0.9.1)\n",
            "Requirement already satisfied: torchrl>=0.6.0 in /usr/local/lib/python3.11/dist-packages (from rl4co) (0.9.1)\n",
            "Requirement already satisfied: wandb in /usr/local/lib/python3.11/dist-packages (from rl4co) (0.21.0)\n",
            "Requirement already satisfied: PyYAML<8.0,>=5.4 in /usr/local/lib/python3.11/dist-packages (from lightning>=2.1.0->rl4co) (6.0.2)\n",
            "Requirement already satisfied: fsspec<2027.0,>=2022.5.0 in /usr/local/lib/python3.11/dist-packages (from fsspec[http]<2027.0,>=2022.5.0->lightning>=2.1.0->rl4co) (2025.3.2)\n",
            "Requirement already satisfied: lightning-utilities<2.0,>=0.10.0 in /usr/local/lib/python3.11/dist-packages (from lightning>=2.1.0->rl4co) (0.14.3)\n",
            "Requirement already satisfied: packaging<27.0,>=20.0 in /usr/local/lib/python3.11/dist-packages (from lightning>=2.1.0->rl4co) (25.0)\n",
            "Requirement already satisfied: torch<4.0,>=2.1.0 in /usr/local/lib/python3.11/dist-packages (from lightning>=2.1.0->rl4co) (2.6.0+cu124)\n",
            "Requirement already satisfied: torchmetrics<3.0,>=0.7.0 in /usr/local/lib/python3.11/dist-packages (from lightning>=2.1.0->rl4co) (1.7.4)\n",
            "Requirement already satisfied: tqdm<6.0,>=4.57.0 in /usr/local/lib/python3.11/dist-packages (from lightning>=2.1.0->rl4co) (4.67.1)\n",
            "Requirement already satisfied: typing-extensions<6.0,>=4.4.0 in /usr/local/lib/python3.11/dist-packages (from lightning>=2.1.0->rl4co) (4.14.1)\n",
            "Requirement already satisfied: pytorch-lightning in /usr/local/lib/python3.11/dist-packages (from lightning>=2.1.0->rl4co) (2.5.2)\n",
            "Requirement already satisfied: numpy in /usr/local/lib/python3.11/dist-packages (from tensordict>=0.6.0->rl4co) (2.0.2)\n",
            "Requirement already satisfied: cloudpickle in /usr/local/lib/python3.11/dist-packages (from tensordict>=0.6.0->rl4co) (3.1.1)\n",
            "Requirement already satisfied: importlib_metadata in /usr/local/lib/python3.11/dist-packages (from tensordict>=0.6.0->rl4co) (8.7.0)\n",
            "Requirement already satisfied: orjson in /usr/local/lib/python3.11/dist-packages (from tensordict>=0.6.0->rl4co) (3.10.18)\n",
            "Requirement already satisfied: pyvers<0.2.0,>=0.1.0 in /usr/local/lib/python3.11/dist-packages (from tensordict>=0.6.0->rl4co) (0.1.0)\n",
            "Requirement already satisfied: colorlog in /usr/local/lib/python3.11/dist-packages (from hydra-colorlog->rl4co) (6.9.0)\n",
            "Requirement already satisfied: antlr4-python3-runtime==4.9.* in /usr/local/lib/python3.11/dist-packages (from hydra-core->rl4co) (4.9.3)\n",
            "Requirement already satisfied: contourpy>=1.0.1 in /usr/local/lib/python3.11/dist-packages (from matplotlib->rl4co) (1.3.2)\n",
            "Requirement already satisfied: cycler>=0.10 in /usr/local/lib/python3.11/dist-packages (from matplotlib->rl4co) (0.12.1)\n",
            "Requirement already satisfied: fonttools>=4.22.0 in /usr/local/lib/python3.11/dist-packages (from matplotlib->rl4co) (4.58.5)\n",
            "Requirement already satisfied: kiwisolver>=1.3.1 in /usr/local/lib/python3.11/dist-packages (from matplotlib->rl4co) (1.4.8)\n",
            "Requirement already satisfied: pillow>=8 in /usr/local/lib/python3.11/dist-packages (from matplotlib->rl4co) (11.2.1)\n",
            "Requirement already satisfied: pyparsing>=2.3.1 in /usr/local/lib/python3.11/dist-packages (from matplotlib->rl4co) (3.2.3)\n",
            "Requirement already satisfied: python-dateutil>=2.7 in /usr/local/lib/python3.11/dist-packages (from matplotlib->rl4co) (2.9.0.post0)\n",
            "Requirement already satisfied: python-dotenv>=0.20.0 in /usr/local/lib/python3.11/dist-packages (from pyrootutils->rl4co) (1.1.1)\n",
            "Requirement already satisfied: markdown-it-py>=2.2.0 in /usr/local/lib/python3.11/dist-packages (from rich->rl4co) (3.0.0)\n",
            "Requirement already satisfied: pygments<3.0.0,>=2.13.0 in /usr/local/lib/python3.11/dist-packages (from rich->rl4co) (2.19.2)\n",
            "Requirement already satisfied: requests in /usr/local/lib/python3.11/dist-packages (from robust-downloader->rl4co) (2.32.3)\n",
            "Requirement already satisfied: click!=8.0.0,>=7.1 in /usr/local/lib/python3.11/dist-packages (from wandb->rl4co) (8.2.1)\n",
            "Requirement already satisfied: gitpython!=3.1.29,>=1.0.0 in /usr/local/lib/python3.11/dist-packages (from wandb->rl4co) (3.1.44)\n",
            "Requirement already satisfied: platformdirs in /usr/local/lib/python3.11/dist-packages (from wandb->rl4co) (4.3.8)\n",
            "Requirement already satisfied: protobuf!=4.21.0,!=5.28.0,<7,>=3.19.0 in /usr/local/lib/python3.11/dist-packages (from wandb->rl4co) (5.29.5)\n",
            "Requirement already satisfied: pydantic<3 in /usr/local/lib/python3.11/dist-packages (from wandb->rl4co) (2.11.7)\n",
            "Requirement already satisfied: sentry-sdk>=2.0.0 in /usr/local/lib/python3.11/dist-packages (from wandb->rl4co) (2.32.0)\n",
            "Requirement already satisfied: aiohttp!=4.0.0a0,!=4.0.0a1 in /usr/local/lib/python3.11/dist-packages (from fsspec[http]<2027.0,>=2022.5.0->lightning>=2.1.0->rl4co) (3.11.15)\n",
            "Requirement already satisfied: gitdb<5,>=4.0.1 in /usr/local/lib/python3.11/dist-packages (from gitpython!=3.1.29,>=1.0.0->wandb->rl4co) (4.0.12)\n",
            "Requirement already satisfied: setuptools in /usr/local/lib/python3.11/dist-packages (from lightning-utilities<2.0,>=0.10.0->lightning>=2.1.0->rl4co) (75.2.0)\n",
            "Requirement already satisfied: mdurl~=0.1 in /usr/local/lib/python3.11/dist-packages (from markdown-it-py>=2.2.0->rich->rl4co) (0.1.2)\n",
            "Requirement already satisfied: annotated-types>=0.6.0 in /usr/local/lib/python3.11/dist-packages (from pydantic<3->wandb->rl4co) (0.7.0)\n",
            "Requirement already satisfied: pydantic-core==2.33.2 in /usr/local/lib/python3.11/dist-packages (from pydantic<3->wandb->rl4co) (2.33.2)\n",
            "Requirement already satisfied: typing-inspection>=0.4.0 in /usr/local/lib/python3.11/dist-packages (from pydantic<3->wandb->rl4co) (0.4.1)\n",
            "Requirement already satisfied: six>=1.5 in /usr/local/lib/python3.11/dist-packages (from python-dateutil>=2.7->matplotlib->rl4co) (1.17.0)\n",
            "Requirement already satisfied: charset-normalizer<4,>=2 in /usr/local/lib/python3.11/dist-packages (from requests->robust-downloader->rl4co) (3.4.2)\n",
            "Requirement already satisfied: idna<4,>=2.5 in /usr/local/lib/python3.11/dist-packages (from requests->robust-downloader->rl4co) (3.10)\n",
            "Requirement already satisfied: urllib3<3,>=1.21.1 in /usr/local/lib/python3.11/dist-packages (from requests->robust-downloader->rl4co) (2.4.0)\n",
            "Requirement already satisfied: certifi>=2017.4.17 in /usr/local/lib/python3.11/dist-packages (from requests->robust-downloader->rl4co) (2025.7.9)\n",
            "Requirement already satisfied: filelock in /usr/local/lib/python3.11/dist-packages (from torch<4.0,>=2.1.0->lightning>=2.1.0->rl4co) (3.18.0)\n",
            "Requirement already satisfied: networkx in /usr/local/lib/python3.11/dist-packages (from torch<4.0,>=2.1.0->lightning>=2.1.0->rl4co) (3.5)\n",
            "Requirement already satisfied: jinja2 in /usr/local/lib/python3.11/dist-packages (from torch<4.0,>=2.1.0->lightning>=2.1.0->rl4co) (3.1.6)\n",
            "Requirement already satisfied: nvidia-cuda-nvrtc-cu12==12.4.127 in /usr/local/lib/python3.11/dist-packages (from torch<4.0,>=2.1.0->lightning>=2.1.0->rl4co) (12.4.127)\n",
            "Requirement already satisfied: nvidia-cuda-runtime-cu12==12.4.127 in /usr/local/lib/python3.11/dist-packages (from torch<4.0,>=2.1.0->lightning>=2.1.0->rl4co) (12.4.127)\n",
            "Requirement already satisfied: nvidia-cuda-cupti-cu12==12.4.127 in /usr/local/lib/python3.11/dist-packages (from torch<4.0,>=2.1.0->lightning>=2.1.0->rl4co) (12.4.127)\n",
            "Requirement already satisfied: nvidia-cudnn-cu12==9.1.0.70 in /usr/local/lib/python3.11/dist-packages (from torch<4.0,>=2.1.0->lightning>=2.1.0->rl4co) (9.1.0.70)\n",
            "Requirement already satisfied: nvidia-cublas-cu12==12.4.5.8 in /usr/local/lib/python3.11/dist-packages (from torch<4.0,>=2.1.0->lightning>=2.1.0->rl4co) (12.4.5.8)\n",
            "Requirement already satisfied: nvidia-cufft-cu12==11.2.1.3 in /usr/local/lib/python3.11/dist-packages (from torch<4.0,>=2.1.0->lightning>=2.1.0->rl4co) (11.2.1.3)\n",
            "Requirement already satisfied: nvidia-curand-cu12==10.3.5.147 in /usr/local/lib/python3.11/dist-packages (from torch<4.0,>=2.1.0->lightning>=2.1.0->rl4co) (10.3.5.147)\n",
            "Requirement already satisfied: nvidia-cusolver-cu12==11.6.1.9 in /usr/local/lib/python3.11/dist-packages (from torch<4.0,>=2.1.0->lightning>=2.1.0->rl4co) (11.6.1.9)\n",
            "Requirement already satisfied: nvidia-cusparse-cu12==12.3.1.170 in /usr/local/lib/python3.11/dist-packages (from torch<4.0,>=2.1.0->lightning>=2.1.0->rl4co) (12.3.1.170)\n",
            "Requirement already satisfied: nvidia-cusparselt-cu12==0.6.2 in /usr/local/lib/python3.11/dist-packages (from torch<4.0,>=2.1.0->lightning>=2.1.0->rl4co) (0.6.2)\n",
            "Requirement already satisfied: nvidia-nccl-cu12==2.21.5 in /usr/local/lib/python3.11/dist-packages (from torch<4.0,>=2.1.0->lightning>=2.1.0->rl4co) (2.21.5)\n",
            "Requirement already satisfied: nvidia-nvtx-cu12==12.4.127 in /usr/local/lib/python3.11/dist-packages (from torch<4.0,>=2.1.0->lightning>=2.1.0->rl4co) (12.4.127)\n",
            "Requirement already satisfied: nvidia-nvjitlink-cu12==12.4.127 in /usr/local/lib/python3.11/dist-packages (from torch<4.0,>=2.1.0->lightning>=2.1.0->rl4co) (12.4.127)\n",
            "Requirement already satisfied: triton==3.2.0 in /usr/local/lib/python3.11/dist-packages (from torch<4.0,>=2.1.0->lightning>=2.1.0->rl4co) (3.2.0)\n",
            "Requirement already satisfied: sympy==1.13.1 in /usr/local/lib/python3.11/dist-packages (from torch<4.0,>=2.1.0->lightning>=2.1.0->rl4co) (1.13.1)\n",
            "Requirement already satisfied: mpmath<1.4,>=1.1.0 in /usr/local/lib/python3.11/dist-packages (from sympy==1.13.1->torch<4.0,>=2.1.0->lightning>=2.1.0->rl4co) (1.3.0)\n",
            "Requirement already satisfied: zipp>=3.20 in /usr/local/lib/python3.11/dist-packages (from importlib_metadata->tensordict>=0.6.0->rl4co) (3.23.0)\n",
            "Requirement already satisfied: aiohappyeyeballs>=2.3.0 in /usr/local/lib/python3.11/dist-packages (from aiohttp!=4.0.0a0,!=4.0.0a1->fsspec[http]<2027.0,>=2022.5.0->lightning>=2.1.0->rl4co) (2.6.1)\n",
            "Requirement already satisfied: aiosignal>=1.1.2 in /usr/local/lib/python3.11/dist-packages (from aiohttp!=4.0.0a0,!=4.0.0a1->fsspec[http]<2027.0,>=2022.5.0->lightning>=2.1.0->rl4co) (1.4.0)\n",
            "Requirement already satisfied: attrs>=17.3.0 in /usr/local/lib/python3.11/dist-packages (from aiohttp!=4.0.0a0,!=4.0.0a1->fsspec[http]<2027.0,>=2022.5.0->lightning>=2.1.0->rl4co) (25.3.0)\n",
            "Requirement already satisfied: frozenlist>=1.1.1 in /usr/local/lib/python3.11/dist-packages (from aiohttp!=4.0.0a0,!=4.0.0a1->fsspec[http]<2027.0,>=2022.5.0->lightning>=2.1.0->rl4co) (1.7.0)\n",
            "Requirement already satisfied: multidict<7.0,>=4.5 in /usr/local/lib/python3.11/dist-packages (from aiohttp!=4.0.0a0,!=4.0.0a1->fsspec[http]<2027.0,>=2022.5.0->lightning>=2.1.0->rl4co) (6.6.3)\n",
            "Requirement already satisfied: propcache>=0.2.0 in /usr/local/lib/python3.11/dist-packages (from aiohttp!=4.0.0a0,!=4.0.0a1->fsspec[http]<2027.0,>=2022.5.0->lightning>=2.1.0->rl4co) (0.3.2)\n",
            "Requirement already satisfied: yarl<2.0,>=1.17.0 in /usr/local/lib/python3.11/dist-packages (from aiohttp!=4.0.0a0,!=4.0.0a1->fsspec[http]<2027.0,>=2022.5.0->lightning>=2.1.0->rl4co) (1.20.1)\n",
            "Requirement already satisfied: smmap<6,>=3.0.1 in /usr/local/lib/python3.11/dist-packages (from gitdb<5,>=4.0.1->gitpython!=3.1.29,>=1.0.0->wandb->rl4co) (5.0.2)\n",
            "Requirement already satisfied: MarkupSafe>=2.0 in /usr/local/lib/python3.11/dist-packages (from jinja2->torch<4.0,>=2.1.0->lightning>=2.1.0->rl4co) (3.0.2)\n"
          ]
        }
      ],
      "source": [
        "## Uncomment the following line to install the package from PyPI\n",
        "## You may need to restart the runtime in Colab after this\n",
        "## Remember to choose a GPU runtime for faster training!\n",
        "\n",
        "!pip install rl4co"
      ]
    },
    {
      "cell_type": "markdown",
      "metadata": {
        "id": "BTyIPAbxpamL"
      },
      "source": [
        "### Imports"
      ]
    },
    {
      "cell_type": "code",
      "execution_count": 2,
      "metadata": {
        "colab": {
          "base_uri": "https://localhost:8080/"
        },
        "id": "jrj7uRVUpamL",
        "outputId": "104848ff-c8d3-49cb-afd4-b5b9377d9d09"
      },
      "outputs": [
        {
          "output_type": "stream",
          "name": "stderr",
          "text": [
            "/usr/local/lib/python3.11/dist-packages/torchrl/data/replay_buffers/samplers.py:36: UserWarning: Failed to import torchrl C++ binaries. Some modules (eg, prioritized replay buffers) may not work with your installation. This is likely due to a discrepancy between your package version and the PyTorch version. Make sure both are compatible. Usually, torchrl majors follow the pytorch majors within a few days around the release. For instance, TorchRL 0.5 requires PyTorch 2.4.0, and TorchRL 0.6 requires PyTorch 2.5.0.\n",
            "  warnings.warn(EXTENSION_WARNING)\n"
          ]
        }
      ],
      "source": [
        "from typing import Optional\n",
        "import torch\n",
        "import torch.nn as nn\n",
        "\n",
        "from tensordict.tensordict import TensorDict\n",
        "from torchrl.data import (\n",
        "    Bounded,\n",
        "    Composite,\n",
        "    Unbounded,\n",
        "    Unbounded,\n",
        ")\n",
        "\n",
        "from rl4co.utils.decoding import rollout, random_policy\n",
        "from rl4co.envs.common import RL4COEnvBase, Generator, get_sampler\n",
        "from rl4co.models.zoo import AttentionModel, AttentionModelPolicy\n",
        "from rl4co.utils.ops import gather_by_index, get_tour_length\n",
        "from rl4co.utils.trainer import RL4COTrainer"
      ]
    },
    {
      "cell_type": "markdown",
      "metadata": {
        "id": "UcP4GIkupamM"
      },
      "source": [
        "## Environment Creation"
      ]
    },
    {
      "cell_type": "markdown",
      "metadata": {
        "id": "JtIphznepamN"
      },
      "source": [
        "We will base environment creation on the `RL4COEnvBase` class, which is based on [TorchRL](https://github.com/pytorch/rl). More information in [documentation](https://rl4co.readthedocs.io/en/latest/_content/api/envs/base.html)!"
      ]
    },
    {
      "cell_type": "markdown",
      "metadata": {
        "id": "RtGPD-t-pamP"
      },
      "source": [
        "### Reset\n",
        "\n",
        "The `_reset` function is used to initialize the environment to an initial state. It returns a TensorDict of the initial state."
      ]
    },
    {
      "cell_type": "code",
      "source": [
        "init_locs = td[\"locs\"]"
      ],
      "metadata": {
        "id": "TKMIKLlCzpKH"
      },
      "execution_count": 41,
      "outputs": []
    },
    {
      "cell_type": "code",
      "source": [
        "[1,2,3,4]"
      ],
      "metadata": {
        "colab": {
          "base_uri": "https://localhost:8080/"
        },
        "id": "nlMA_9Kvzx5O",
        "outputId": "c91746ab-ab94-4ea0-92ef-7feb09449e7b"
      },
      "execution_count": 50,
      "outputs": [
        {
          "output_type": "execute_result",
          "data": {
            "text/plain": [
              "[1]"
            ]
          },
          "metadata": {},
          "execution_count": 50
        }
      ]
    },
    {
      "cell_type": "code",
      "execution_count": 3,
      "metadata": {
        "id": "R9jMAtrhpamQ"
      },
      "outputs": [],
      "source": [
        "def _reset(self, td: Optional[TensorDict] = None, batch_size=None) -> TensorDict:\n",
        "    # Initialize locations\n",
        "    init_locs = td[\"locs\"] if td is not None else None\n",
        "    if batch_size is None:\n",
        "        batch_size = self.batch_size if init_locs is None else init_locs.shape[:-2]\n",
        "    device = init_locs.device if init_locs is not None else self.device\n",
        "    self.to(device)\n",
        "    if init_locs is None:\n",
        "        init_locs = self.generate_data(batch_size=batch_size).to(device)[\"locs\"]\n",
        "    batch_size = [batch_size] if isinstance(batch_size, int) else batch_size\n",
        "\n",
        "    # We do not enforce loading from self for flexibility\n",
        "    num_loc = init_locs.shape[-2]\n",
        "\n",
        "    # Other variables\n",
        "    current_node = torch.zeros((batch_size), dtype=torch.int64, device=device)\n",
        "    available = torch.ones(\n",
        "        (*batch_size, num_loc), dtype=torch.bool, device=device\n",
        "    )  # 1 means not visited, i.e. action is allowed\n",
        "    i = torch.zeros((*batch_size, 1), dtype=torch.int64, device=device)\n",
        "\n",
        "    return TensorDict(\n",
        "        {\n",
        "            \"locs\": init_locs,\n",
        "            \"first_node\": current_node,\n",
        "            \"current_node\": current_node,\n",
        "            \"i\": i,\n",
        "            \"action_mask\": available,\n",
        "            \"reward\": torch.zeros((*batch_size, 1), dtype=torch.float32),\n",
        "        },\n",
        "        batch_size=batch_size,\n",
        "    )"
      ]
    },
    {
      "cell_type": "markdown",
      "metadata": {
        "id": "c418dFKJpamS"
      },
      "source": [
        "### Step\n",
        "\n",
        "Environment `_step`: this defines the state update of the TSP problem gived a TensorDict (td in the code) of the current state and the action to take:"
      ]
    },
    {
      "cell_type": "code",
      "execution_count": 4,
      "metadata": {
        "id": "3TIvRvQHpamT"
      },
      "outputs": [],
      "source": [
        "def _step(self, td: TensorDict) -> TensorDict:\n",
        "    current_node = td[\"action\"]\n",
        "    first_node = current_node if td[\"i\"].all() == 0 else td[\"first_node\"]\n",
        "\n",
        "    # Set not visited to 0 (i.e., we visited the node)\n",
        "    # Note: we may also use a separate function for obtaining the mask for more flexibility\n",
        "    available = td[\"action_mask\"].scatter(\n",
        "        -1, current_node.unsqueeze(-1).expand_as(td[\"action_mask\"]), 0\n",
        "    )\n",
        "\n",
        "    # We are done there are no unvisited locations\n",
        "    done = torch.sum(available, dim=-1) == 0\n",
        "\n",
        "    # The reward is calculated outside via get_reward for efficiency, so we set it to 0 here\n",
        "    reward = torch.zeros_like(done)\n",
        "\n",
        "    td.update(\n",
        "        {\n",
        "            \"first_node\": first_node,\n",
        "            \"current_node\": current_node,\n",
        "            \"i\": td[\"i\"] + 1,\n",
        "            \"action_mask\": available,\n",
        "            \"reward\": reward,\n",
        "            \"done\": done,\n",
        "        },\n",
        "    )\n",
        "    return td"
      ]
    },
    {
      "cell_type": "markdown",
      "metadata": {
        "id": "Di8FelpEpamU"
      },
      "source": [
        "### [Optional] Separate Action Mask Function\n",
        "\n",
        "The `get_action_mask` function simply returns a mask of the valid actions for the current updated state. This can be used in `_step` and `_reset` for larger environments with several constraints and may be useful for modularity"
      ]
    },
    {
      "cell_type": "code",
      "execution_count": 5,
      "metadata": {
        "id": "G-ZKZ4rppamU"
      },
      "outputs": [],
      "source": [
        "def get_action_mask(self, td: TensorDict) -> TensorDict:\n",
        "    # Here: your logic\n",
        "    return td[\"action_mask\"]"
      ]
    },
    {
      "cell_type": "markdown",
      "metadata": {
        "id": "laMEQF_fpamU"
      },
      "source": [
        "### [Optional] Check Solution Validity\n",
        "\n",
        "Another optional utility, this checks whether the solution is feasible and can help identify bugs"
      ]
    },
    {
      "cell_type": "code",
      "execution_count": 6,
      "metadata": {
        "id": "xL5Xz1NSpamV"
      },
      "outputs": [],
      "source": [
        "def check_solution_validity(self, td: TensorDict, actions: torch.Tensor):\n",
        "    \"\"\"Check that solution is valid: nodes are visited exactly once\"\"\"\n",
        "    assert (\n",
        "        torch.arange(actions.size(1), out=actions.data.new())\n",
        "        .view(1, -1)\n",
        "        .expand_as(actions)\n",
        "        == actions.data.sort(1)[0]\n",
        "    ).all(), \"Invalid tour\""
      ]
    },
    {
      "cell_type": "markdown",
      "metadata": {
        "id": "LLk9z8nnpamV"
      },
      "source": [
        "### Reward function\n",
        "\n",
        "The `_get_reward` function is used to evaluate the reward given the solution (actions)."
      ]
    },
    {
      "cell_type": "code",
      "execution_count": 7,
      "metadata": {
        "id": "ESUlXPlQpamV"
      },
      "outputs": [],
      "source": [
        "def _get_reward(self, td, actions) -> TensorDict:\n",
        "    # Sanity check if enabled\n",
        "    if self.check_solution:\n",
        "        self.check_solution_validity(td, actions)\n",
        "\n",
        "    # Gather locations in order of tour and return distance between them (i.e., -reward)\n",
        "    locs_ordered = gather_by_index(td[\"locs\"], actions)\n",
        "    return -get_tour_length(locs_ordered)"
      ]
    },
    {
      "cell_type": "markdown",
      "metadata": {
        "id": "KQsG_SH9pamW"
      },
      "source": [
        "### Environment Action Specs\n",
        "\n",
        "This defines the input and output domains of the environment - similar to Gym's `spaces`.\n",
        "This is not strictly necessary, but it is useful to have a clear definition of the environment's action and observation spaces and if we want to sample actions using TorchRL's utils\n",
        "\n",
        "> Note: this is actually not necessary, but it is useful to have a clear definition of the environment's action and observation spaces and if we want to sample actions using TorchRL's utils"
      ]
    },
    {
      "cell_type": "code",
      "execution_count": 8,
      "metadata": {
        "id": "_aSRNBsspamW"
      },
      "outputs": [],
      "source": [
        "def _make_spec(self, generator):\n",
        "    \"\"\"Make the observation and action specs from the parameters\"\"\"\n",
        "    self.observation_spec = Composite(\n",
        "        locs=Bounded(\n",
        "            low=self.generator.min_loc,\n",
        "            high=self.generator.max_loc,\n",
        "            shape=(self.generator.num_loc, 2),\n",
        "            dtype=torch.float32,\n",
        "        ),\n",
        "        first_node=Unbounded(\n",
        "            shape=(1),\n",
        "            dtype=torch.int64,\n",
        "        ),\n",
        "        current_node=Unbounded(\n",
        "            shape=(1),\n",
        "            dtype=torch.int64,\n",
        "        ),\n",
        "        i=Unbounded(\n",
        "            shape=(1),\n",
        "            dtype=torch.int64,\n",
        "        ),\n",
        "        action_mask=Unbounded(\n",
        "            shape=(self.generator.num_loc),\n",
        "            dtype=torch.bool,\n",
        "        ),\n",
        "        shape=(),\n",
        "    )\n",
        "    self.action_spec = Bounded(\n",
        "        shape=(1,),\n",
        "        dtype=torch.int64,\n",
        "        low=0,\n",
        "        high=self.generator.num_loc,\n",
        "    )\n",
        "    self.reward_spec = Unbounded(shape=(1,))\n",
        "    self.done_spec = Unbounded(shape=(1,), dtype=torch.bool)"
      ]
    },
    {
      "cell_type": "markdown",
      "metadata": {
        "id": "xoW1Er_9pamW"
      },
      "source": [
        "### Data generator\n",
        "\n",
        "The generator allows to generate random instances of the problem. Note that this is a simplified example: this can include additional distributions via the `rl4co.envs.common.utils.get_sampler` method!"
      ]
    },
    {
      "cell_type": "code",
      "execution_count": 9,
      "metadata": {
        "colab": {
          "base_uri": "https://localhost:8080/"
        },
        "id": "A_rH076upamW",
        "outputId": "8aa23d54-0b5d-42fd-975f-675f53e0a548"
      },
      "outputs": [
        {
          "output_type": "stream",
          "name": "stdout",
          "text": [
            "torch.Size([32, 20, 2])\n"
          ]
        }
      ],
      "source": [
        "class TSPGenerator(Generator):\n",
        "    def __init__(\n",
        "        self,\n",
        "        num_loc: int = 20,\n",
        "        min_loc: float = 0.0,\n",
        "        max_loc: float = 1.0,\n",
        "    ):\n",
        "        self.num_loc = num_loc\n",
        "        self.min_loc = min_loc\n",
        "        self.max_loc = max_loc\n",
        "        self.loc_sampler = torch.distributions.Uniform(\n",
        "            low=min_loc, high=max_loc\n",
        "        )\n",
        "\n",
        "    def _generate(self, batch_size) -> TensorDict:\n",
        "        # Sample locations\n",
        "        locs = self.loc_sampler.sample((*batch_size, self.num_loc, 2))\n",
        "        return TensorDict({\"locs\": locs}, batch_size=batch_size)\n",
        "\n",
        "# Test generator\n",
        "generator = TSPGenerator(num_loc=20)\n",
        "locs = generator(32)\n",
        "print(locs[\"locs\"].shape)"
      ]
    },
    {
      "cell_type": "markdown",
      "metadata": {
        "id": "DnxhaU9XpamY"
      },
      "source": [
        "### Render function\n",
        "\n",
        "The `render` function is optional, but can be useful for quickly visualizing the results of your algorithm!"
      ]
    },
    {
      "cell_type": "code",
      "execution_count": 10,
      "metadata": {
        "id": "qQSCGqO7pamY"
      },
      "outputs": [],
      "source": [
        "def render(self, td, actions=None, ax=None):\n",
        "    import matplotlib.pyplot as plt\n",
        "    import numpy as np\n",
        "\n",
        "    if ax is None:\n",
        "        # Create a plot of the nodes\n",
        "        _, ax = plt.subplots()\n",
        "\n",
        "    td = td.detach().cpu()\n",
        "\n",
        "    if actions is None:\n",
        "        actions = td.get(\"action\", None)\n",
        "    # if batch_size greater than 0 , we need to select the first batch element\n",
        "    if td.batch_size != torch.Size([]):\n",
        "        td = td[0]\n",
        "        actions = actions[0]\n",
        "\n",
        "    locs = td[\"locs\"]\n",
        "\n",
        "    # gather locs in order of action if available\n",
        "    if actions is None:\n",
        "        print(\"No action in TensorDict, rendering unsorted locs\")\n",
        "    else:\n",
        "        actions = actions.detach().cpu()\n",
        "        locs = gather_by_index(locs, actions, dim=0)\n",
        "\n",
        "    # Cat the first node to the end to complete the tour\n",
        "    locs = torch.cat((locs, locs[0:1]))\n",
        "    x, y = locs[:, 0], locs[:, 1]\n",
        "\n",
        "    # Plot the visited nodes\n",
        "    ax.scatter(x, y, color=\"tab:blue\")\n",
        "\n",
        "    # Add arrows between visited nodes as a quiver plot\n",
        "    dx, dy = np.diff(x), np.diff(y)\n",
        "    ax.quiver(\n",
        "        x[:-1], y[:-1], dx, dy, scale_units=\"xy\", angles=\"xy\", scale=1, color=\"k\"\n",
        "    )\n",
        "\n",
        "    # Setup limits and show\n",
        "    ax.set_xlim(-0.05, 1.05)\n",
        "    ax.set_ylim(-0.05, 1.05)"
      ]
    },
    {
      "cell_type": "markdown",
      "metadata": {
        "id": "xnEa23V-pamY"
      },
      "source": [
        "### Putting everything together"
      ]
    },
    {
      "cell_type": "code",
      "execution_count": 11,
      "metadata": {
        "id": "StnuANGnpamY"
      },
      "outputs": [],
      "source": [
        "class TSPEnv(RL4COEnvBase):\n",
        "    \"\"\"Traveling Salesman Problem (TSP) environment\"\"\"\n",
        "\n",
        "    name = \"tsp\"\n",
        "\n",
        "    def __init__(\n",
        "        self,\n",
        "        generator = TSPGenerator,\n",
        "        generator_params = {},\n",
        "        **kwargs,\n",
        "    ):\n",
        "        super().__init__(**kwargs)\n",
        "        self.generator = generator(**generator_params)\n",
        "        self._make_spec(self.generator)\n",
        "\n",
        "    _reset = _reset\n",
        "    _step = _step\n",
        "    _get_reward = _get_reward\n",
        "    check_solution_validity = check_solution_validity\n",
        "    get_action_mask = get_action_mask\n",
        "    _make_spec = _make_spec\n",
        "    render = render\n"
      ]
    },
    {
      "cell_type": "code",
      "execution_count": 12,
      "metadata": {
        "colab": {
          "base_uri": "https://localhost:8080/",
          "height": 430
        },
        "id": "-JT2MFWBpamZ",
        "outputId": "34e0299e-7db1-457b-f017-92c228f1ee08"
      },
      "outputs": [
        {
          "output_type": "display_data",
          "data": {
            "text/plain": [
              "<Figure size 640x480 with 1 Axes>"
            ],
            "image/png": "[encoded data removed]"
          },
          "metadata": {}
        }
      ],
      "source": [
        "batch_size = 2\n",
        "\n",
        "env = TSPEnv(generator_params=dict(num_loc=20))\n",
        "reward, td, actions = rollout(env, env.reset(batch_size=[batch_size]), random_policy)\n",
        "env.render(td, actions)"
      ]
    },
    {
      "cell_type": "markdown",
      "metadata": {
        "id": "MplVe2YppamZ"
      },
      "source": [
        "## Modeling\n",
        "\n",
        "Now we need to model the problem by transforming input information into the latent space to be processed. Here we focus on `AttentionModel`-based embeddings with an encoder-decoder structure. In RL4CO, we divide embeddings in 3 parts:\n",
        "\n",
        "- `init_embedding`: (encoder) embed initial states of the problem\n",
        "- `context_embedding`: (decoder) embed context information of the problem for the current partial solution to modify the query\n",
        "- `dynamic_embedding`: (decoder) embed dynamic information of the problem for the current partial solution to modify the query, key, and value (i.e. if other nodes also change state)"
      ]
    },
    {
      "cell_type": "markdown",
      "metadata": {
        "id": "pono_IOOpama"
      },
      "source": [
        "### Init Embedding\n",
        "\n",
        "Embed initial problem into latent space. In our case, we can project the coordinates of the cities into a latent space."
      ]
    },
    {
      "cell_type": "code",
      "execution_count": 13,
      "metadata": {
        "id": "MxHjtV4apamb"
      },
      "outputs": [],
      "source": [
        "class TSPInitEmbedding(nn.Module):\n",
        "    \"\"\"Initial embedding for the Traveling Salesman Problems (TSP).\n",
        "    Embed the following node features to the embedding space:\n",
        "        - locs: x, y coordinates of the cities\n",
        "    \"\"\"\n",
        "\n",
        "    def __init__(self, embed_dim, linear_bias=True):\n",
        "        super(TSPInitEmbedding, self).__init__()\n",
        "        node_dim = 2  # x, y\n",
        "        self.init_embed = nn.Linear(node_dim, embed_dim, linear_bias)\n",
        "\n",
        "    def forward(self, td):\n",
        "        out = self.init_embed(td[\"locs\"])\n",
        "        return out"
      ]
    },
    {
      "cell_type": "markdown",
      "metadata": {
        "id": "tu2ArYVNpamb"
      },
      "source": [
        "### Context Embedding\n",
        "\n",
        "Context embedding takes the current context and returns a vector representation of it. In TSP, we can take the embedding of the first node visited (since we need to complete the tour) as well as the embedding of current node visited (in the first step we just have a placeholder since they are the same)."
      ]
    },
    {
      "cell_type": "code",
      "execution_count": 14,
      "metadata": {
        "id": "qq1HsUtDpamb"
      },
      "outputs": [],
      "source": [
        "class TSPContext(nn.Module):\n",
        "    \"\"\"Context embedding for the Traveling Salesman Problem (TSP).\n",
        "    Project the following to the embedding space:\n",
        "        - first node embedding\n",
        "        - current node embedding\n",
        "    \"\"\"\n",
        "\n",
        "    def __init__(self, embed_dim,  linear_bias=True):\n",
        "        super(TSPContext, self).__init__()\n",
        "        self.W_placeholder = nn.Parameter(\n",
        "            torch.Tensor(2 * embed_dim).uniform_(-1, 1)\n",
        "        )\n",
        "        self.project_context = nn.Linear(\n",
        "            embed_dim*2, embed_dim, bias=linear_bias\n",
        "        )\n",
        "\n",
        "    def forward(self, embeddings, td):\n",
        "        batch_size = embeddings.size(0)\n",
        "        # By default, node_dim = -1 (we only have one node embedding per node)\n",
        "        node_dim = (\n",
        "            (-1,) if td[\"first_node\"].dim() == 1 else (td[\"first_node\"].size(-1), -1)\n",
        "        )\n",
        "        if td[\"i\"][(0,) * td[\"i\"].dim()].item() < 1:  # get first item fast\n",
        "            context_embedding = self.W_placeholder[None, :].expand(\n",
        "                batch_size, self.W_placeholder.size(-1)\n",
        "            )\n",
        "        else:\n",
        "            context_embedding = gather_by_index(\n",
        "                embeddings,\n",
        "                torch.stack([td[\"first_node\"], td[\"current_node\"]], -1).view(\n",
        "                    batch_size, -1\n",
        "                ),\n",
        "            ).view(batch_size, *node_dim)\n",
        "        return self.project_context(context_embedding)\n",
        ""
      ]
    },
    {
      "cell_type": "markdown",
      "metadata": {
        "id": "L6onuT_Ppamc"
      },
      "source": [
        "### Dynamic Embedding\n",
        "\n",
        "Since the states do not change except for visited nodes, we do not need to modify the keys and values. Therefore, we set this to 0"
      ]
    },
    {
      "cell_type": "code",
      "execution_count": 15,
      "metadata": {
        "id": "OVF3UaY0pamc"
      },
      "outputs": [],
      "source": [
        "class StaticEmbedding(nn.Module):\n",
        "    def __init__(self, *args, **kwargs):\n",
        "        super(StaticEmbedding, self).__init__()\n",
        "\n",
        "    def forward(self, td):\n",
        "        return 0, 0, 0"
      ]
    },
    {
      "cell_type": "markdown",
      "metadata": {
        "id": "HVDThSCzpamd"
      },
      "source": [
        "## Training our Model"
      ]
    },
    {
      "cell_type": "code",
      "execution_count": 16,
      "metadata": {
        "colab": {
          "base_uri": "https://localhost:8080/"
        },
        "id": "s5SzN03Kpamd",
        "outputId": "252e6402-1aee-4553-e525-814ed65de594"
      },
      "outputs": [
        {
          "output_type": "stream",
          "name": "stderr",
          "text": [
            "/usr/local/lib/python3.11/dist-packages/lightning/pytorch/utilities/parsing.py:209: Attribute 'env' is an instance of `nn.Module` and is already saved during checkpointing. It is recommended to ignore them using `self.save_hyperparameters(ignore=['env'])`.\n",
            "/usr/local/lib/python3.11/dist-packages/lightning/pytorch/utilities/parsing.py:209: Attribute 'policy' is an instance of `nn.Module` and is already saved during checkpointing. It is recommended to ignore them using `self.save_hyperparameters(ignore=['policy'])`.\n"
          ]
        }
      ],
      "source": [
        "# Instantiate our environment\n",
        "env = TSPEnv(generator_params=dict(num_loc=20))\n",
        "\n",
        "# Instantiate policy with the embeddings we created above\n",
        "emb_dim = 128\n",
        "policy = AttentionModelPolicy(env_name=env.name, # this is actually not needed since we are initializing the embeddings!\n",
        "                              embed_dim=emb_dim,\n",
        "                              init_embedding=TSPInitEmbedding(emb_dim),\n",
        "                              context_embedding=TSPContext(emb_dim),\n",
        "                              dynamic_embedding=StaticEmbedding(emb_dim)\n",
        ")\n",
        "\n",
        "\n",
        "# Model: default is AM with REINFORCE and greedy rollout baseline\n",
        "model = AttentionModel(env,\n",
        "                       policy=policy,\n",
        "                       baseline='rollout',\n",
        "                       train_data_size=100_000,\n",
        "                       val_data_size=10_000)"
      ]
    },
    {
      "cell_type": "markdown",
      "metadata": {
        "id": "-Xs4q3_Ypamd"
      },
      "source": [
        "### Rollout untrained model"
      ]
    },
    {
      "cell_type": "code",
      "execution_count": 17,
      "metadata": {
        "colab": {
          "base_uri": "https://localhost:8080/",
          "height": 1000
        },
        "id": "LF-7nmNupamd",
        "outputId": "562ca58e-fc4e-40e3-a62f-da092d3aacab"
      },
      "outputs": [
        {
          "output_type": "stream",
          "name": "stdout",
          "text": [
            "Problem 1 | Cost: 8.170\n",
            "Problem 2 | Cost: 7.794\n",
            "Problem 3 | Cost: 6.597\n"
          ]
        },
        {
          "output_type": "display_data",
          "data": {
            "text/plain": [
              "<Figure size 640x480 with 1 Axes>"
            ],
            "image/png": "[encoded data removed]"
          },
          "metadata": {}
        },
        {
          "output_type": "display_data",
          "data": {
            "text/plain": [
              "<Figure size 640x480 with 1 Axes>"
            ],
            "image/png": "[encoded data removed]"
          },
          "metadata": {}
        },
        {
          "output_type": "display_data",
          "data": {
            "text/plain": [
              "<Figure size 640x480 with 1 Axes>"
            ],
            "image/png": "[encoded data removed]"
          },
          "metadata": {}
        }
      ],
      "source": [
        "# Greedy rollouts over untrained model\n",
        "device = torch.device(\"cuda\" if torch.cuda.is_available() else \"cpu\")\n",
        "td_init = env.reset(batch_size=[3]).to(device)\n",
        "policy = model.policy.to(device)\n",
        "out = policy(td_init.clone(), env, phase=\"test\", decode_type=\"greedy\")\n",
        "actions_untrained = out['actions'].cpu().detach()\n",
        "rewards_untrained = out['reward'].cpu().detach()\n",
        "\n",
        "for i in range(3):\n",
        "    print(f\"Problem {i+1} | Cost: {-rewards_untrained[i]:.3f}\")\n",
        "    env.render(td_init[i], actions_untrained[i])"
      ]
    },
    {
      "cell_type": "markdown",
      "metadata": {
        "id": "2WPoJsR2pame"
      },
      "source": [
        "### Training loop"
      ]
    },
    {
      "cell_type": "code",
      "execution_count": 18,
      "metadata": {
        "colab": {
          "base_uri": "https://localhost:8080/",
          "height": 819,
          "referenced_widgets": [
            "899f2710c42448158cc6753d1bd40e38",
            "594b76ad0e7e4950839a1b7187dc9f55",
            "390c3b5e09cf446386455ec9c24c201e",
            "77b58f25f8e24c76ba84ef76b15dbeec",
            "fad5dc9b19fb40949d194220850837a4",
            "74ab8e4c4fdb468b9573c0c5606823e3",
            "9656eacf7c184fe5a873c5fd24088815",
            "fafdb82dce224f2aad29b5b6f36d05b0",
            "1cac8675e62b46408795965d18edb025",
            "0276239f18884cba948259fb5a322aae",
            "b7bb33966c5a402087aad5c31b70b228",
            "19cb4b8f799d4f99b1fb4aabf8d6928e",
            "aa69d8b4eb8845d4840c3efb36aa5c8b",
            "d97c1e1d48d049fda46f3bbfc8f5d5cf",
            "55ccbf638f004b6b997345bb0fcf5bd3",
            "6f2347146597433fb9b4f02edca7acea",
            "460838a102404ea483f002934877d26f",
            "f1d3dc8003694065957b30c55eb56954",
            "77a52cb147eb45b2ba06bd1df7a8c679",
            "360c126439564b74838b4f87b014247f",
            "ceb533102de24711ad8bfef6a900ef14",
            "d2ffa2fa9b59483e96f2ca117c3ee995",
            "9559dd3bc0984f8f9a61945299a48f1d",
            "6059a12554b14cae81badd81dc9f0dd1",
            "64dbd19fcfd54341b6d1138b878f91c9",
            "1a64b354646b4de2ad4d47312033d067",
            "9ef1ba55cb444f34b4b525b2f338f71d",
            "f070f8040a9745a18ab6c63b86f11272",
            "cecda496e5874910974ceeeb19180ea6",
            "c83b6178c8b64839bc4165b5b0ebe5f6",
            "2e982fb03d2d48009bdcfac0aececa2c",
            "637da9bf552c42d98e1d324fe4fb1296",
            "55cb4b1da31f4d17bf6d4dc058f583ed",
            "a8f035eca0ab41cf8611eeb425ba9376",
            "580b6b48400242f2a0262ce733bf1591",
            "4069cf8a99784db88bf5cc2d8f8d7eaa",
            "b368f8e2b5564384b7b82d847f03eaf1",
            "0d3b7963a0b04d96a8fed4607e92f5a4",
            "63fe1dcff33642158feb3fe9e4d245a2",
            "77af0066ab2f42c7bea0a800d87d8118",
            "ef9698b2a0dd47d9883af2983020fe6a",
            "7a3218c808dd4b179efddb469d0f7fa0",
            "e29ca0f90a7445eebaf952561b9dc23b",
            "49d16a5343e240678b50a2d4b3f5c90a",
            "6575df032d244f58b48d038559d4d4db",
            "db65949fc1e84266a970bb37831c2677",
            "4478ebabacb04feda71cfa660170321c",
            "8f18ee856ab84aadb59939f6a3693182",
            "8ec288aa7d8a4c46bb59a5b8884e64cd",
            "bc050b07c06049fd9b218e6bd1c9b1ba",
            "60f627a57f624f4f8cd375fb5f8537a8",
            "5d3b8415ebb74416a132a07108b9fdfc",
            "f788ffc4cc094d9f925e86fb69031413",
            "cf4699f96b5341eba06ab5c1e517b214",
            "066be14f63354a2987c51bbfaa1ffa5a"
          ]
        },
        "id": "lgWsg940pame",
        "outputId": "596c68ac-999a-4fe3-c016-df86dbb6776c"
      },
      "outputs": [
        {
          "output_type": "stream",
          "name": "stderr",
          "text": [
            "INFO: Using 16bit Automatic Mixed Precision (AMP)\n",
            "INFO:lightning.pytorch.utilities.rank_zero:Using 16bit Automatic Mixed Precision (AMP)\n",
            "INFO: 💡 Tip: For seamless cloud uploads and versioning, try installing [litmodels](https://pypi.org/project/litmodels/) to enable LitModelCheckpoint, which syncs automatically with the Lightning model registry.\n",
            "INFO:lightning.pytorch.utilities.rank_zero:💡 Tip: For seamless cloud uploads and versioning, try installing [litmodels](https://pypi.org/project/litmodels/) to enable LitModelCheckpoint, which syncs automatically with the Lightning model registry.\n",
            "INFO: GPU available: True (cuda), used: True\n",
            "INFO:lightning.pytorch.utilities.rank_zero:GPU available: True (cuda), used: True\n",
            "INFO: TPU available: False, using: 0 TPU cores\n",
            "INFO:lightning.pytorch.utilities.rank_zero:TPU available: False, using: 0 TPU cores\n",
            "INFO: HPU available: False, using: 0 HPUs\n",
            "INFO:lightning.pytorch.utilities.rank_zero:HPU available: False, using: 0 HPUs\n",
            "WARNING:rl4co.envs.common.base:val_file not set. Generating dataset instead\n",
            "WARNING:rl4co.envs.common.base:test_file not set. Generating dataset instead\n",
            "INFO: LOCAL_RANK: 0 - CUDA_VISIBLE_DEVICES: [0]\n",
            "INFO:lightning.pytorch.accelerators.cuda:LOCAL_RANK: 0 - CUDA_VISIBLE_DEVICES: [0]\n",
            "INFO: \n",
            "  | Name     | Type                 | Params | Mode \n",
            "----------------------------------------------------------\n",
            "0 | env      | TSPEnv               | 0      | train\n",
            "1 | policy   | AttentionModelPolicy | 710 K  | train\n",
            "2 | baseline | WarmupBaseline       | 710 K  | train\n",
            "----------------------------------------------------------\n",
            "1.4 M     Trainable params\n",
            "0         Non-trainable params\n",
            "1.4 M     Total params\n",
            "5.682     Total estimated model params size (MB)\n",
            "72        Modules in train mode\n",
            "68        Modules in eval mode\n",
            "INFO:lightning.pytorch.callbacks.model_summary:\n",
            "  | Name     | Type                 | Params | Mode \n",
            "----------------------------------------------------------\n",
            "0 | env      | TSPEnv               | 0      | train\n",
            "1 | policy   | AttentionModelPolicy | 710 K  | train\n",
            "2 | baseline | WarmupBaseline       | 710 K  | train\n",
            "----------------------------------------------------------\n",
            "1.4 M     Trainable params\n",
            "0         Non-trainable params\n",
            "1.4 M     Total params\n",
            "5.682     Total estimated model params size (MB)\n",
            "72        Modules in train mode\n",
            "68        Modules in eval mode\n"
          ]
        },
        {
          "output_type": "display_data",
          "data": {
            "text/plain": [
              "Sanity Checking: |          | 0/? [00:00<?, ?it/s]"
            ],
            "application/vnd.jupyter.widget-view+json": {
              "version_major": 2,
              "version_minor": 0,
              "model_id": "899f2710c42448158cc6753d1bd40e38"
            }
          },
          "metadata": {}
        },
        {
          "output_type": "display_data",
          "data": {
            "text/plain": [
              "Training: |          | 0/? [00:00<?, ?it/s]"
            ],
            "application/vnd.jupyter.widget-view+json": {
              "version_major": 2,
              "version_minor": 0,
              "model_id": "19cb4b8f799d4f99b1fb4aabf8d6928e"
            }
          },
          "metadata": {}
        },
        {
          "output_type": "display_data",
          "data": {
            "text/plain": [
              "Validation: |          | 0/? [00:00<?, ?it/s]"
            ],
            "application/vnd.jupyter.widget-view+json": {
              "version_major": 2,
              "version_minor": 0,
              "model_id": "9559dd3bc0984f8f9a61945299a48f1d"
            }
          },
          "metadata": {}
        },
        {
          "output_type": "display_data",
          "data": {
            "text/plain": [
              "Validation: |          | 0/? [00:00<?, ?it/s]"
            ],
            "application/vnd.jupyter.widget-view+json": {
              "version_major": 2,
              "version_minor": 0,
              "model_id": "a8f035eca0ab41cf8611eeb425ba9376"
            }
          },
          "metadata": {}
        },
        {
          "output_type": "display_data",
          "data": {
            "text/plain": [
              "Validation: |          | 0/? [00:00<?, ?it/s]"
            ],
            "application/vnd.jupyter.widget-view+json": {
              "version_major": 2,
              "version_minor": 0,
              "model_id": "6575df032d244f58b48d038559d4d4db"
            }
          },
          "metadata": {}
        },
        {
          "output_type": "stream",
          "name": "stderr",
          "text": [
            "INFO: `Trainer.fit` stopped: `max_epochs=3` reached.\n",
            "INFO:lightning.pytorch.utilities.rank_zero:`Trainer.fit` stopped: `max_epochs=3` reached.\n"
          ]
        }
      ],
      "source": [
        "# We use our own wrapper around Lightning's `Trainer` to make it easier to use\n",
        "trainer = RL4COTrainer(max_epochs=3, devices=1)\n",
        "trainer.fit(model)"
      ]
    },
    {
      "cell_type": "markdown",
      "metadata": {
        "id": "uWIeX9CLpame"
      },
      "source": [
        "## Evaluation"
      ]
    },
    {
      "cell_type": "code",
      "execution_count": 19,
      "metadata": {
        "colab": {
          "base_uri": "https://localhost:8080/",
          "height": 1000
        },
        "id": "dD144lJmpame",
        "outputId": "8c9868cc-0efa-4c63-dfba-a5e4c9085ecf"
      },
      "outputs": [
        {
          "output_type": "display_data",
          "data": {
            "text/plain": [
              "<Figure size 1100x500 with 2 Axes>"
            ],
            "image/png": "[encoded data removed]"
          },
          "metadata": {}
        },
        {
          "output_type": "display_data",
          "data": {
            "text/plain": [
              "<Figure size 1100x500 with 2 Axes>"
            ],
            "image/png": "[encoded data removed]"
          },
          "metadata": {}
        },
        {
          "output_type": "display_data",
          "data": {
            "text/plain": [
              "<Figure size 1100x500 with 2 Axes>"
            ],
            "image/png": "[encoded data removed]"
          },
          "metadata": {}
        }
      ],
      "source": [
        "# Greedy rollouts over trained policy (same states as previous plot)\n",
        "policy = model.policy.to(device)\n",
        "out = policy(td_init.clone(), env, phase=\"test\", decode_type=\"greedy\")\n",
        "actions_trained = out['actions'].cpu().detach()\n",
        "\n",
        "# Plotting\n",
        "import matplotlib.pyplot as plt\n",
        "for i, td in enumerate(td_init):\n",
        "    fig, axs = plt.subplots(1,2, figsize=(11,5))\n",
        "    env.render(td, actions_untrained[i], ax=axs[0])\n",
        "    env.render(td, actions_trained[i], ax=axs[1])\n",
        "    axs[0].set_title(f\"Untrained | Cost = {-rewards_untrained[i].item():.3f}\")\n",
        "    axs[1].set_title(r\"Trained $\\pi_\\theta$\" + f\"| Cost = {-out['reward'][i].item():.3f}\")"
      ]
    },
    {
      "cell_type": "markdown",
      "metadata": {
        "id": "m2UpVJ5Spamf"
      },
      "source": [
        "We can see that solutions are way better than with the untrained model, even just after 3 epochs! 🚀"
      ]
    },
    {
      "cell_type": "code",
      "source": [
        "from typing import Optional\n",
        "import torch\n",
        "from tensordict.tensordict import TensorDict\n",
        "from torchrl.data import Bounded, Composite, Unbounded\n",
        "from rl4co.envs.common.base import RL4COEnvBase\n",
        "from rl4co.envs.routing.tsp.generator import TSPGenerator\n",
        "from rl4co.utils.ops import gather_by_index, get_tour_length\n",
        "\n",
        "\n",
        "class InversionTSPEnv(RL4COEnvBase):\n",
        "    \"\"\"\n",
        "    Traveling Salesman Problem (TSP) environment using inversion-vector (Lehmer code).\n",
        "\n",
        "    State (TensorDict):\n",
        "      - locs: [batch_size, num_loc, 2]\n",
        "      - inversion: [batch_size, num_loc] inversion counts, padded with -1\n",
        "      - i: [batch_size, 1] current index in inversion vector\n",
        "\n",
        "    Action: [batch_size, 1] next inversion count in [0, num_loc - i - 1]\n",
        "\n",
        "    Reward: 0 at each step; final reward = -total tour length.\n",
        "    \"\"\"\n",
        "    name = \"tsp_inversion\"\n",
        "\n",
        "    def __init__(\n",
        "        self,\n",
        "        generator: Optional[TSPGenerator] = None,\n",
        "        generator_params: dict = {},\n",
        "        **kwargs,\n",
        "    ):\n",
        "        super().__init__(**kwargs)\n",
        "        if generator is None:\n",
        "            generator = TSPGenerator(**generator_params)\n",
        "        self.generator = generator\n",
        "        self._make_spec(generator)\n",
        "\n",
        "    def _make_spec(self, generator: TSPGenerator):\n",
        "        n = generator.num_loc\n",
        "        self.observation_spec = Composite(\n",
        "            locs=Bounded(\n",
        "                low=generator.min_loc,\n",
        "                high=generator.max_loc,\n",
        "                shape=(n, 2),\n",
        "                dtype=torch.float32,\n",
        "            ),\n",
        "            inversion=Bounded(\n",
        "                low=-1,\n",
        "                high=n - 1,\n",
        "                shape=(n,),\n",
        "                dtype=torch.int64,\n",
        "            ),\n",
        "            i=Unbounded(\n",
        "                shape=(1,),\n",
        "                dtype=torch.int64,\n",
        "            ),\n",
        "        )\n",
        "        self.action_spec = Bounded(\n",
        "            shape=(1,),\n",
        "            dtype=torch.int64,\n",
        "            low=0,\n",
        "            high=n,\n",
        "        )\n",
        "        self.reward_spec = Unbounded(\n",
        "            shape=(1,),\n",
        "            dtype=torch.float32,\n",
        "        )\n",
        "        self.done_spec = Unbounded(\n",
        "            shape=(1,),\n",
        "            dtype=torch.bool,\n",
        "        )\n",
        "\n",
        "    def _reset(\n",
        "        self,\n",
        "        td: Optional[TensorDict] = None,\n",
        "        batch_size=None,\n",
        "    ) -> TensorDict:\n",
        "        # Generate or reuse data\n",
        "        if td is None or \"locs\" not in td.keys():\n",
        "            td = self.generator.generate_data(batch_size=batch_size)\n",
        "        td = td.to(self.device)\n",
        "        locs = td[\"locs\"]  # [batch_size, n, 2]\n",
        "        bs, n, _ = locs.shape\n",
        "\n",
        "        inversion = torch.full(\n",
        "            (bs, n), -1, dtype=torch.int64, device=self.device\n",
        "        )\n",
        "        i = torch.zeros((bs, 1), dtype=torch.int64, device=self.device)\n",
        "        reward = torch.zeros((bs, 1), dtype=torch.float32, device=self.device)\n",
        "        done = torch.zeros((bs, 1), dtype=torch.bool, device=self.device)\n",
        "\n",
        "        return TensorDict(\n",
        "            {\n",
        "                \"locs\": locs,\n",
        "                \"inversion\": inversion,\n",
        "                \"i\": i,\n",
        "                \"reward\": reward,\n",
        "                \"done\": done,\n",
        "            },\n",
        "            batch_size=[bs],\n",
        "        )\n",
        "\n",
        "    def _step(self, td: TensorDict) -> TensorDict:\n",
        "        inversion = td[\"inversion\"]\n",
        "        i = td[\"i\"].view(-1)\n",
        "        action = td[\"action\"].view(-1)\n",
        "        done = td[\"done\"].view(-1)\n",
        "        bs, n = inversion.shape\n",
        "\n",
        "        for b in range(bs):\n",
        "            if not done[b]:\n",
        "                pos = i[b].item()\n",
        "                max_inv = n - pos - 1\n",
        "                val = action[b].clamp(0, max_inv)\n",
        "                inversion[b, pos] = val\n",
        "                i[b] += 1\n",
        "                if pos == n - 1:\n",
        "                    done[b] = True\n",
        "\n",
        "        td.set(\"inversion\", inversion)\n",
        "        td.set(\"i\", i.unsqueeze(-1))\n",
        "        td.set(\"done\", done.unsqueeze(-1))\n",
        "        # intermediate rewards set to zero\n",
        "        td.set(\n",
        "            \"reward\",\n",
        "            torch.zeros((bs, 1), dtype=torch.float32, device=self.device),\n",
        "        )\n",
        "        return td\n",
        "\n",
        "    def _get_reward(\n",
        "        self,\n",
        "        td: TensorDict,\n",
        "        actions: torch.Tensor,\n",
        "    ) -> torch.Tensor:\n",
        "        # actions: [batch_size, num_loc] inversion vectors\n",
        "        bs, n = actions.shape\n",
        "        locs = td[\"locs\"]\n",
        "        rewards = []\n",
        "        for b in range(bs):\n",
        "            inv = actions[b]\n",
        "            seq = list(range(n))\n",
        "            perm = []\n",
        "            for v in inv.tolist():\n",
        "                perm.append(seq.pop(int(v)))\n",
        "            perm = torch.tensor(perm, dtype=torch.long, device=actions.device)\n",
        "            ordered = gather_by_index(\n",
        "                locs[b].unsqueeze(0), perm.unsqueeze(0)\n",
        "            )\n",
        "            length = get_tour_length(ordered)\n",
        "            rewards.append(-length)\n",
        "        return torch.tensor(\n",
        "            rewards, dtype=torch.float32, device=actions.device\n",
        "        ).unsqueeze(-1)\n",
        "\n",
        "# Example usage\n",
        "if __name__ == \"__main__\":\n",
        "    from rl4co.envs.routing.tsp.generator import TSPGenerator\n",
        "\n",
        "    gen = TSPGenerator(num_loc=5, loc_distribution=\"uniform\")\n",
        "    env = InversionTSPEnv(generator=gen)\n",
        "    td = env.reset(batch_size=[2])\n",
        "    done = td.get(\"done\").item()\n",
        "    steps = 0\n",
        "    while not done and steps < gen.num_loc:\n",
        "        i = td[\"i\"][0].item()\n",
        "        action = torch.randint(0, gen.num_loc - i, (1, 1), device=td.device)\n",
        "        td.set(\"action\", action)\n",
        "        td = env.step(td)\n",
        "        done = td.get(\"done\").item()\n",
        "        steps += 1\n",
        "    # get final reward via env._get_reward\n",
        "    reward = env._get_reward(td, td.get(\"inversion\"))\n",
        "    print(\"Final reward:\", reward)\n"
      ],
      "metadata": {
        "colab": {
          "base_uri": "https://localhost:8080/"
        },
        "id": "XjqFnZIFuTtW",
        "outputId": "df0bf260-4004-45e0-f910-5b8f909726cd"
      },
      "execution_count": 22,
      "outputs": [
        {
          "output_type": "stream",
          "name": "stdout",
          "text": [
            "tensor([[0.3080, 0.1036],\n",
            "        [0.4907, 0.2835],\n",
            "        [0.1313, 0.2677],\n",
            "        [0.8332, 0.0865],\n",
            "        [0.6279, 0.7149],\n",
            "        [0.6031, 0.4041],\n",
            "        [0.0585, 0.1231],\n",
            "        [0.2146, 0.6721],\n",
            "        [0.7512, 0.8444],\n",
            "        [0.4168, 0.7628],\n",
            "        [0.4972, 0.6763],\n",
            "        [0.5871, 0.6417],\n",
            "        [0.4557, 0.8579],\n",
            "        [0.4093, 0.2791],\n",
            "        [0.5161, 0.6346],\n",
            "        [0.8586, 0.6390],\n",
            "        [0.9770, 0.5730],\n",
            "        [0.3254, 0.6927],\n",
            "        [0.0539, 0.2117],\n",
            "        [0.8900, 0.4904]], device='cuda:0')\n"
          ]
        }
      ]
    },
    {
      "cell_type": "code",
      "source": [
        "class TSPInitEmbedding(nn.Module):\n",
        "    \"\"\"Initial embedding for the Traveling Salesman Problems (TSP).\n",
        "    Embed the following node features to the embedding space:\n",
        "        - locs: x, y coordinates of the cities\n",
        "    \"\"\"\n",
        "\n",
        "    def __init__(self, embed_dim, linear_bias=True):\n",
        "        super(TSPInitEmbedding, self).__init__()\n",
        "        node_dim = 1  # x, y\n",
        "        self.init_embed = nn.Linear(node_dim, embed_dim, linear_bias)\n",
        "\n",
        "    def forward(self, td):\n",
        "        out = self.init_embed(tensor[[1],[2],[3],[4],[5],[6],[7],[8],[9],[10]])\n",
        "        return out"
      ],
      "metadata": {
        "id": "rnBgyNHMu-fG"
      },
      "execution_count": 28,
      "outputs": []
    },
    {
      "cell_type": "code",
      "source": [
        "# Instantiate our environment\n",
        "env = TSPEnv(generator_params=dict(num_loc=20))\n",
        "\n",
        "# Instantiate policy with the embeddings we created above\n",
        "emb_dim = 128\n",
        "policy = AttentionModelPolicy(env_name=env.name, # this is actually not needed since we are initializing the embeddings!\n",
        "                              embed_dim=emb_dim,\n",
        "                              init_embedding=TSPInitEmbedding(emb_dim),\n",
        "                              context_embedding=TSPContext(emb_dim),\n",
        "                              dynamic_embedding=StaticEmbedding(emb_dim)\n",
        ")\n",
        "\n",
        "\n",
        "# Model: default is AM with REINFORCE and greedy rollout baseline\n",
        "model = AttentionModel(env,\n",
        "                       policy=policy,\n",
        "                       baseline='rollout',\n",
        "                       train_data_size=100_000,\n",
        "                       val_data_size=10_000)"
      ],
      "metadata": {
        "colab": {
          "base_uri": "https://localhost:8080/"
        },
        "id": "Nmtfg_nWvT0m",
        "outputId": "4e644dc7-d9f4-4a4d-ac2c-c36af1e9a96f"
      },
      "execution_count": 29,
      "outputs": [
        {
          "output_type": "stream",
          "name": "stderr",
          "text": [
            "/usr/local/lib/python3.11/dist-packages/lightning/pytorch/utilities/parsing.py:209: Attribute 'env' is an instance of `nn.Module` and is already saved during checkpointing. It is recommended to ignore them using `self.save_hyperparameters(ignore=['env'])`.\n",
            "/usr/local/lib/python3.11/dist-packages/lightning/pytorch/utilities/parsing.py:209: Attribute 'policy' is an instance of `nn.Module` and is already saved during checkpointing. It is recommended to ignore them using `self.save_hyperparameters(ignore=['policy'])`.\n"
          ]
        }
      ]
    },
    {
      "cell_type": "code",
      "source": [
        "# Greedy rollouts over untrained model\n",
        "device = torch.device(\"cuda\" if torch.cuda.is_available() else \"cpu\")\n",
        "td_init = env.reset(batch_size=[3]).to(device)\n",
        "policy = model.policy.to(device)\n",
        "out = policy(td_init.clone(), env, phase=\"test\", decode_type=\"greedy\")\n",
        "actions_untrained = out['actions'].cpu().detach()\n",
        "rewards_untrained = out['reward'].cpu().detach()\n",
        "\n",
        "for i in range(3):\n",
        "    print(f\"Problem {i+1} | Cost: {-rewards_untrained[i]:.3f}\")\n",
        "    env.render(td_init[i], actions_untrained[i])"
      ],
      "metadata": {
        "colab": {
          "base_uri": "https://localhost:8080/",
          "height": 347
        },
        "id": "msFqDglAvXTi",
        "outputId": "36fef5bc-4898-4de9-d544-65d289736fe3"
      },
      "execution_count": 30,
      "outputs": [
        {
          "output_type": "error",
          "ename": "NameError",
          "evalue": "name 'tensor' is not defined",
          "traceback": [
            "\u001b[0;31m---------------------------------------------------------------------------\u001b[0m",
            "\u001b[0;31mNameError\u001b[0m                                 Traceback (most recent call last)",
            "\u001b[0;32m/tmp/ipython-input-30-2770849814.py\u001b[0m in \u001b[0;36m<cell line: 0>\u001b[0;34m()\u001b[0m\n\u001b[1;32m      3\u001b[0m \u001b[0mtd_init\u001b[0m \u001b[0;34m=\u001b[0m \u001b[0menv\u001b[0m\u001b[0;34m.\u001b[0m\u001b[0mreset\u001b[0m\u001b[0;34m(\u001b[0m\u001b[0mbatch_size\u001b[0m\u001b[0;34m=\u001b[0m\u001b[0;34m[\u001b[0m\u001b[0;36m3\u001b[0m\u001b[0;34m]\u001b[0m\u001b[0;34m)\u001b[0m\u001b[0;34m.\u001b[0m\u001b[0mto\u001b[0m\u001b[0;34m(\u001b[0m\u001b[0mdevice\u001b[0m\u001b[0;34m)\u001b[0m\u001b[0;34m\u001b[0m\u001b[0;34m\u001b[0m\u001b[0m\n\u001b[1;32m      4\u001b[0m \u001b[0mpolicy\u001b[0m \u001b[0;34m=\u001b[0m \u001b[0mmodel\u001b[0m\u001b[0;34m.\u001b[0m\u001b[0mpolicy\u001b[0m\u001b[0;34m.\u001b[0m\u001b[0mto\u001b[0m\u001b[0;34m(\u001b[0m\u001b[0mdevice\u001b[0m\u001b[0;34m)\u001b[0m\u001b[0;34m\u001b[0m\u001b[0;34m\u001b[0m\u001b[0m\n\u001b[0;32m----> 5\u001b[0;31m \u001b[0mout\u001b[0m \u001b[0;34m=\u001b[0m \u001b[0mpolicy\u001b[0m\u001b[0;34m(\u001b[0m\u001b[0mtd_init\u001b[0m\u001b[0;34m.\u001b[0m\u001b[0mclone\u001b[0m\u001b[0;34m(\u001b[0m\u001b[0;34m)\u001b[0m\u001b[0;34m,\u001b[0m \u001b[0menv\u001b[0m\u001b[0;34m,\u001b[0m \u001b[0mphase\u001b[0m\u001b[0;34m=\u001b[0m\u001b[0;34m\"test\"\u001b[0m\u001b[0;34m,\u001b[0m \u001b[0mdecode_type\u001b[0m\u001b[0;34m=\u001b[0m\u001b[0;34m\"greedy\"\u001b[0m\u001b[0;34m)\u001b[0m\u001b[0;34m\u001b[0m\u001b[0;34m\u001b[0m\u001b[0m\n\u001b[0m\u001b[1;32m      6\u001b[0m \u001b[0mactions_untrained\u001b[0m \u001b[0;34m=\u001b[0m \u001b[0mout\u001b[0m\u001b[0;34m[\u001b[0m\u001b[0;34m'actions'\u001b[0m\u001b[0;34m]\u001b[0m\u001b[0;34m.\u001b[0m\u001b[0mcpu\u001b[0m\u001b[0;34m(\u001b[0m\u001b[0;34m)\u001b[0m\u001b[0;34m.\u001b[0m\u001b[0mdetach\u001b[0m\u001b[0;34m(\u001b[0m\u001b[0;34m)\u001b[0m\u001b[0;34m\u001b[0m\u001b[0;34m\u001b[0m\u001b[0m\n\u001b[1;32m      7\u001b[0m \u001b[0mrewards_untrained\u001b[0m \u001b[0;34m=\u001b[0m \u001b[0mout\u001b[0m\u001b[0;34m[\u001b[0m\u001b[0;34m'reward'\u001b[0m\u001b[0;34m]\u001b[0m\u001b[0;34m.\u001b[0m\u001b[0mcpu\u001b[0m\u001b[0;34m(\u001b[0m\u001b[0;34m)\u001b[0m\u001b[0;34m.\u001b[0m\u001b[0mdetach\u001b[0m\u001b[0;34m(\u001b[0m\u001b[0;34m)\u001b[0m\u001b[0;34m\u001b[0m\u001b[0;34m\u001b[0m\u001b[0m\n",
            "\u001b[0;32m/usr/local/lib/python3.11/dist-packages/torch/nn/modules/module.py\u001b[0m in \u001b[0;36m_wrapped_call_impl\u001b[0;34m(self, *args, **kwargs)\u001b[0m\n\u001b[1;32m   1737\u001b[0m             \u001b[0;32mreturn\u001b[0m \u001b[0mself\u001b[0m\u001b[0;34m.\u001b[0m\u001b[0m_compiled_call_impl\u001b[0m\u001b[0;34m(\u001b[0m\u001b[0;34m*\u001b[0m\u001b[0margs\u001b[0m\u001b[0;34m,\u001b[0m \u001b[0;34m**\u001b[0m\u001b[0mkwargs\u001b[0m\u001b[0;34m)\u001b[0m  \u001b[0;31m# type: ignore[misc]\u001b[0m\u001b[0;34m\u001b[0m\u001b[0;34m\u001b[0m\u001b[0m\n\u001b[1;32m   1738\u001b[0m         \u001b[0;32melse\u001b[0m\u001b[0;34m:\u001b[0m\u001b[0;34m\u001b[0m\u001b[0;34m\u001b[0m\u001b[0m\n\u001b[0;32m-> 1739\u001b[0;31m             \u001b[0;32mreturn\u001b[0m \u001b[0mself\u001b[0m\u001b[0;34m.\u001b[0m\u001b[0m_call_impl\u001b[0m\u001b[0;34m(\u001b[0m\u001b[0;34m*\u001b[0m\u001b[0margs\u001b[0m\u001b[0;34m,\u001b[0m \u001b[0;34m**\u001b[0m\u001b[0mkwargs\u001b[0m\u001b[0;34m)\u001b[0m\u001b[0;34m\u001b[0m\u001b[0;34m\u001b[0m\u001b[0m\n\u001b[0m\u001b[1;32m   1740\u001b[0m \u001b[0;34m\u001b[0m\u001b[0m\n\u001b[1;32m   1741\u001b[0m     \u001b[0;31m# torchrec tests the code consistency with the following code\u001b[0m\u001b[0;34m\u001b[0m\u001b[0;34m\u001b[0m\u001b[0m\n",
            "\u001b[0;32m/usr/local/lib/python3.11/dist-packages/torch/nn/modules/module.py\u001b[0m in \u001b[0;36m_call_impl\u001b[0;34m(self, *args, **kwargs)\u001b[0m\n\u001b[1;32m   1748\u001b[0m                 \u001b[0;32mor\u001b[0m \u001b[0m_global_backward_pre_hooks\u001b[0m \u001b[0;32mor\u001b[0m \u001b[0m_global_backward_hooks\u001b[0m\u001b[0;34m\u001b[0m\u001b[0;34m\u001b[0m\u001b[0m\n\u001b[1;32m   1749\u001b[0m                 or _global_forward_hooks or _global_forward_pre_hooks):\n\u001b[0;32m-> 1750\u001b[0;31m             \u001b[0;32mreturn\u001b[0m \u001b[0mforward_call\u001b[0m\u001b[0;34m(\u001b[0m\u001b[0;34m*\u001b[0m\u001b[0margs\u001b[0m\u001b[0;34m,\u001b[0m \u001b[0;34m**\u001b[0m\u001b[0mkwargs\u001b[0m\u001b[0;34m)\u001b[0m\u001b[0;34m\u001b[0m\u001b[0;34m\u001b[0m\u001b[0m\n\u001b[0m\u001b[1;32m   1751\u001b[0m \u001b[0;34m\u001b[0m\u001b[0m\n\u001b[1;32m   1752\u001b[0m         \u001b[0mresult\u001b[0m \u001b[0;34m=\u001b[0m \u001b[0;32mNone\u001b[0m\u001b[0;34m\u001b[0m\u001b[0;34m\u001b[0m\u001b[0m\n",
            "\u001b[0;32m/usr/local/lib/python3.11/dist-packages/rl4co/models/common/constructive/base.py\u001b[0m in \u001b[0;36mforward\u001b[0;34m(self, td, env, phase, calc_reward, return_actions, return_entropy, return_hidden, return_init_embeds, return_sum_log_likelihood, actions, max_steps, **decoding_kwargs)\u001b[0m\n\u001b[1;32m    193\u001b[0m \u001b[0;34m\u001b[0m\u001b[0m\n\u001b[1;32m    194\u001b[0m         \u001b[0;31m# Encoder: get encoder output and initial embeddings from initial state\u001b[0m\u001b[0;34m\u001b[0m\u001b[0;34m\u001b[0m\u001b[0m\n\u001b[0;32m--> 195\u001b[0;31m         \u001b[0mhidden\u001b[0m\u001b[0;34m,\u001b[0m \u001b[0minit_embeds\u001b[0m \u001b[0;34m=\u001b[0m \u001b[0mself\u001b[0m\u001b[0;34m.\u001b[0m\u001b[0mencoder\u001b[0m\u001b[0;34m(\u001b[0m\u001b[0mtd\u001b[0m\u001b[0;34m)\u001b[0m\u001b[0;34m\u001b[0m\u001b[0;34m\u001b[0m\u001b[0m\n\u001b[0m\u001b[1;32m    196\u001b[0m \u001b[0;34m\u001b[0m\u001b[0m\n\u001b[1;32m    197\u001b[0m         \u001b[0;31m# Instantiate environment if needed\u001b[0m\u001b[0;34m\u001b[0m\u001b[0;34m\u001b[0m\u001b[0m\n",
            "\u001b[0;32m/usr/local/lib/python3.11/dist-packages/torch/nn/modules/module.py\u001b[0m in \u001b[0;36m_wrapped_call_impl\u001b[0;34m(self, *args, **kwargs)\u001b[0m\n\u001b[1;32m   1737\u001b[0m             \u001b[0;32mreturn\u001b[0m \u001b[0mself\u001b[0m\u001b[0;34m.\u001b[0m\u001b[0m_compiled_call_impl\u001b[0m\u001b[0;34m(\u001b[0m\u001b[0;34m*\u001b[0m\u001b[0margs\u001b[0m\u001b[0;34m,\u001b[0m \u001b[0;34m**\u001b[0m\u001b[0mkwargs\u001b[0m\u001b[0;34m)\u001b[0m  \u001b[0;31m# type: ignore[misc]\u001b[0m\u001b[0;34m\u001b[0m\u001b[0;34m\u001b[0m\u001b[0m\n\u001b[1;32m   1738\u001b[0m         \u001b[0;32melse\u001b[0m\u001b[0;34m:\u001b[0m\u001b[0;34m\u001b[0m\u001b[0;34m\u001b[0m\u001b[0m\n\u001b[0;32m-> 1739\u001b[0;31m             \u001b[0;32mreturn\u001b[0m \u001b[0mself\u001b[0m\u001b[0;34m.\u001b[0m\u001b[0m_call_impl\u001b[0m\u001b[0;34m(\u001b[0m\u001b[0;34m*\u001b[0m\u001b[0margs\u001b[0m\u001b[0;34m,\u001b[0m \u001b[0;34m**\u001b[0m\u001b[0mkwargs\u001b[0m\u001b[0;34m)\u001b[0m\u001b[0;34m\u001b[0m\u001b[0;34m\u001b[0m\u001b[0m\n\u001b[0m\u001b[1;32m   1740\u001b[0m \u001b[0;34m\u001b[0m\u001b[0m\n\u001b[1;32m   1741\u001b[0m     \u001b[0;31m# torchrec tests the code consistency with the following code\u001b[0m\u001b[0;34m\u001b[0m\u001b[0;34m\u001b[0m\u001b[0m\n",
            "\u001b[0;32m/usr/local/lib/python3.11/dist-packages/torch/nn/modules/module.py\u001b[0m in \u001b[0;36m_call_impl\u001b[0;34m(self, *args, **kwargs)\u001b[0m\n\u001b[1;32m   1748\u001b[0m                 \u001b[0;32mor\u001b[0m \u001b[0m_global_backward_pre_hooks\u001b[0m \u001b[0;32mor\u001b[0m \u001b[0m_global_backward_hooks\u001b[0m\u001b[0;34m\u001b[0m\u001b[0;34m\u001b[0m\u001b[0m\n\u001b[1;32m   1749\u001b[0m                 or _global_forward_hooks or _global_forward_pre_hooks):\n\u001b[0;32m-> 1750\u001b[0;31m             \u001b[0;32mreturn\u001b[0m \u001b[0mforward_call\u001b[0m\u001b[0;34m(\u001b[0m\u001b[0;34m*\u001b[0m\u001b[0margs\u001b[0m\u001b[0;34m,\u001b[0m \u001b[0;34m**\u001b[0m\u001b[0mkwargs\u001b[0m\u001b[0;34m)\u001b[0m\u001b[0;34m\u001b[0m\u001b[0;34m\u001b[0m\u001b[0m\n\u001b[0m\u001b[1;32m   1751\u001b[0m \u001b[0;34m\u001b[0m\u001b[0m\n\u001b[1;32m   1752\u001b[0m         \u001b[0mresult\u001b[0m \u001b[0;34m=\u001b[0m \u001b[0;32mNone\u001b[0m\u001b[0;34m\u001b[0m\u001b[0;34m\u001b[0m\u001b[0m\n",
            "\u001b[0;32m/usr/local/lib/python3.11/dist-packages/rl4co/models/zoo/am/encoder.py\u001b[0m in \u001b[0;36mforward\u001b[0;34m(self, td, mask)\u001b[0m\n\u001b[1;32m     83\u001b[0m         \"\"\"\n\u001b[1;32m     84\u001b[0m         \u001b[0;31m# Transfer to embedding space\u001b[0m\u001b[0;34m\u001b[0m\u001b[0;34m\u001b[0m\u001b[0m\n\u001b[0;32m---> 85\u001b[0;31m         \u001b[0minit_h\u001b[0m \u001b[0;34m=\u001b[0m \u001b[0mself\u001b[0m\u001b[0;34m.\u001b[0m\u001b[0minit_embedding\u001b[0m\u001b[0;34m(\u001b[0m\u001b[0mtd\u001b[0m\u001b[0;34m)\u001b[0m\u001b[0;34m\u001b[0m\u001b[0;34m\u001b[0m\u001b[0m\n\u001b[0m\u001b[1;32m     86\u001b[0m \u001b[0;34m\u001b[0m\u001b[0m\n\u001b[1;32m     87\u001b[0m         \u001b[0;31m# Process embedding\u001b[0m\u001b[0;34m\u001b[0m\u001b[0;34m\u001b[0m\u001b[0m\n",
            "\u001b[0;32m/usr/local/lib/python3.11/dist-packages/torch/nn/modules/module.py\u001b[0m in \u001b[0;36m_wrapped_call_impl\u001b[0;34m(self, *args, **kwargs)\u001b[0m\n\u001b[1;32m   1737\u001b[0m             \u001b[0;32mreturn\u001b[0m \u001b[0mself\u001b[0m\u001b[0;34m.\u001b[0m\u001b[0m_compiled_call_impl\u001b[0m\u001b[0;34m(\u001b[0m\u001b[0;34m*\u001b[0m\u001b[0margs\u001b[0m\u001b[0;34m,\u001b[0m \u001b[0;34m**\u001b[0m\u001b[0mkwargs\u001b[0m\u001b[0;34m)\u001b[0m  \u001b[0;31m# type: ignore[misc]\u001b[0m\u001b[0;34m\u001b[0m\u001b[0;34m\u001b[0m\u001b[0m\n\u001b[1;32m   1738\u001b[0m         \u001b[0;32melse\u001b[0m\u001b[0;34m:\u001b[0m\u001b[0;34m\u001b[0m\u001b[0;34m\u001b[0m\u001b[0m\n\u001b[0;32m-> 1739\u001b[0;31m             \u001b[0;32mreturn\u001b[0m \u001b[0mself\u001b[0m\u001b[0;34m.\u001b[0m\u001b[0m_call_impl\u001b[0m\u001b[0;34m(\u001b[0m\u001b[0;34m*\u001b[0m\u001b[0margs\u001b[0m\u001b[0;34m,\u001b[0m \u001b[0;34m**\u001b[0m\u001b[0mkwargs\u001b[0m\u001b[0;34m)\u001b[0m\u001b[0;34m\u001b[0m\u001b[0;34m\u001b[0m\u001b[0m\n\u001b[0m\u001b[1;32m   1740\u001b[0m \u001b[0;34m\u001b[0m\u001b[0m\n\u001b[1;32m   1741\u001b[0m     \u001b[0;31m# torchrec tests the code consistency with the following code\u001b[0m\u001b[0;34m\u001b[0m\u001b[0;34m\u001b[0m\u001b[0m\n",
            "\u001b[0;32m/usr/local/lib/python3.11/dist-packages/torch/nn/modules/module.py\u001b[0m in \u001b[0;36m_call_impl\u001b[0;34m(self, *args, **kwargs)\u001b[0m\n\u001b[1;32m   1748\u001b[0m                 \u001b[0;32mor\u001b[0m \u001b[0m_global_backward_pre_hooks\u001b[0m \u001b[0;32mor\u001b[0m \u001b[0m_global_backward_hooks\u001b[0m\u001b[0;34m\u001b[0m\u001b[0;34m\u001b[0m\u001b[0m\n\u001b[1;32m   1749\u001b[0m                 or _global_forward_hooks or _global_forward_pre_hooks):\n\u001b[0;32m-> 1750\u001b[0;31m             \u001b[0;32mreturn\u001b[0m \u001b[0mforward_call\u001b[0m\u001b[0;34m(\u001b[0m\u001b[0;34m*\u001b[0m\u001b[0margs\u001b[0m\u001b[0;34m,\u001b[0m \u001b[0;34m**\u001b[0m\u001b[0mkwargs\u001b[0m\u001b[0;34m)\u001b[0m\u001b[0;34m\u001b[0m\u001b[0;34m\u001b[0m\u001b[0m\n\u001b[0m\u001b[1;32m   1751\u001b[0m \u001b[0;34m\u001b[0m\u001b[0m\n\u001b[1;32m   1752\u001b[0m         \u001b[0mresult\u001b[0m \u001b[0;34m=\u001b[0m \u001b[0;32mNone\u001b[0m\u001b[0;34m\u001b[0m\u001b[0;34m\u001b[0m\u001b[0m\n",
            "\u001b[0;32m/tmp/ipython-input-28-89579333.py\u001b[0m in \u001b[0;36mforward\u001b[0;34m(self, td)\u001b[0m\n\u001b[1;32m     11\u001b[0m \u001b[0;34m\u001b[0m\u001b[0m\n\u001b[1;32m     12\u001b[0m     \u001b[0;32mdef\u001b[0m \u001b[0mforward\u001b[0m\u001b[0;34m(\u001b[0m\u001b[0mself\u001b[0m\u001b[0;34m,\u001b[0m \u001b[0mtd\u001b[0m\u001b[0;34m)\u001b[0m\u001b[0;34m:\u001b[0m\u001b[0;34m\u001b[0m\u001b[0;34m\u001b[0m\u001b[0m\n\u001b[0;32m---> 13\u001b[0;31m         \u001b[0mout\u001b[0m \u001b[0;34m=\u001b[0m \u001b[0mself\u001b[0m\u001b[0;34m.\u001b[0m\u001b[0minit_embed\u001b[0m\u001b[0;34m(\u001b[0m\u001b[0mtensor\u001b[0m\u001b[0;34m[\u001b[0m\u001b[0;34m[\u001b[0m\u001b[0;36m1\u001b[0m\u001b[0;34m]\u001b[0m\u001b[0;34m,\u001b[0m\u001b[0;34m[\u001b[0m\u001b[0;36m2\u001b[0m\u001b[0;34m]\u001b[0m\u001b[0;34m,\u001b[0m\u001b[0;34m[\u001b[0m\u001b[0;36m3\u001b[0m\u001b[0;34m]\u001b[0m\u001b[0;34m,\u001b[0m\u001b[0;34m[\u001b[0m\u001b[0;36m4\u001b[0m\u001b[0;34m]\u001b[0m\u001b[0;34m,\u001b[0m\u001b[0;34m[\u001b[0m\u001b[0;36m5\u001b[0m\u001b[0;34m]\u001b[0m\u001b[0;34m,\u001b[0m\u001b[0;34m[\u001b[0m\u001b[0;36m6\u001b[0m\u001b[0;34m]\u001b[0m\u001b[0;34m,\u001b[0m\u001b[0;34m[\u001b[0m\u001b[0;36m7\u001b[0m\u001b[0;34m]\u001b[0m\u001b[0;34m,\u001b[0m\u001b[0;34m[\u001b[0m\u001b[0;36m8\u001b[0m\u001b[0;34m]\u001b[0m\u001b[0;34m,\u001b[0m\u001b[0;34m[\u001b[0m\u001b[0;36m9\u001b[0m\u001b[0;34m]\u001b[0m\u001b[0;34m,\u001b[0m\u001b[0;34m[\u001b[0m\u001b[0;36m10\u001b[0m\u001b[0;34m]\u001b[0m\u001b[0;34m]\u001b[0m\u001b[0;34m)\u001b[0m\u001b[0;34m\u001b[0m\u001b[0;34m\u001b[0m\u001b[0m\n\u001b[0m\u001b[1;32m     14\u001b[0m         \u001b[0;32mreturn\u001b[0m \u001b[0mout\u001b[0m\u001b[0;34m\u001b[0m\u001b[0;34m\u001b[0m\u001b[0m\n",
            "\u001b[0;31mNameError\u001b[0m: name 'tensor' is not defined"
          ]
        }
      ]
    },
    {
      "cell_type": "code",
      "source": [
        "# We use our own wrapper around Lightning's `Trainer` to make it easier to use\n",
        "trainer = RL4COTrainer(max_epochs=3, devices=1)\n",
        "trainer.fit(model)"
      ],
      "metadata": {
        "id": "U8Cxse55vggK"
      },
      "execution_count": null,
      "outputs": []
    },
    {
      "cell_type": "code",
      "source": [
        "# Greedy rollouts over trained policy (same states as previous plot)\n",
        "policy = model.policy.to(device)\n",
        "out = policy(td_init.clone(), env, phase=\"test\", decode_type=\"greedy\")\n",
        "actions_trained = out['actions'].cpu().detach()\n",
        "\n",
        "# Plotting\n",
        "import matplotlib.pyplot as plt\n",
        "for i, td in enumerate(td_init):\n",
        "    fig, axs = plt.subplots(1,2, figsize=(11,5))\n",
        "    env.render(td, actions_untrained[i], ax=axs[0])\n",
        "    env.render(td, actions_trained[i], ax=axs[1])\n",
        "    axs[0].set_title(f\"Untrained | Cost = {-rewards_untrained[i].item():.3f}\")\n",
        "    axs[1].set_title(r\"Trained $\\pi_\\theta$\" + f\"| Cost = {-out['reward'][i].item():.3f}\")"
      ],
      "metadata": {
        "id": "y7-Bza1Xvi7F"
      },
      "execution_count": null,
      "outputs": []
    }
  ],
  "metadata": {
    "kernelspec": {
      "display_name": "Python 3",
      "name": "python3"
    },
    "language_info": {
      "codemirror_mode": {
        "name": "ipython",
        "version": 3
      },
      "file_extension": ".py",
      "mimetype": "text/x-python",
      "name": "python",
      "nbconvert_exporter": "python",
      "pygments_lexer": "ipython3",
      "version": "3.11.8"
    },
    "orig_nbformat": 4,
    "colab": {
      "provenance": [],
      "gpuType": "T4"
    },
    "accelerator": "GPU",
    "widgets": {
      "application/vnd.jupyter.widget-state+json": {
        "899f2710c42448158cc6753d1bd40e38": {
          "model_module": "@jupyter-widgets/controls",
          "model_name": "HBoxModel",
          "model_module_version": "1.5.0",
          "state": {
            "_dom_classes": [],
            "_model_module": "@jupyter-widgets/controls",
            "_model_module_version": "1.5.0",
            "_model_name": "HBoxModel",
            "_view_count": null,
            "_view_module": "@jupyter-widgets/controls",
            "_view_module_version": "1.5.0",
            "_view_name": "HBoxView",
            "box_style": "",
            "children": [
              "IPY_MODEL_594b76ad0e7e4950839a1b7187dc9f55",
              "IPY_MODEL_390c3b5e09cf446386455ec9c24c201e",
              "IPY_MODEL_77b58f25f8e24c76ba84ef76b15dbeec"
            ],
            "layout": "IPY_MODEL_fad5dc9b19fb40949d194220850837a4"
          }
        },
        "594b76ad0e7e4950839a1b7187dc9f55": {
          "model_module": "@jupyter-widgets/controls",
          "model_name": "HTMLModel",
          "model_module_version": "1.5.0",
          "state": {
            "_dom_classes": [],
            "_model_module": "@jupyter-widgets/controls",
            "_model_module_version": "1.5.0",
            "_model_name": "HTMLModel",
            "_view_count": null,
            "_view_module": "@jupyter-widgets/controls",
            "_view_module_version": "1.5.0",
            "_view_name": "HTMLView",
            "description": "",
            "description_tooltip": null,
            "layout": "IPY_MODEL_74ab8e4c4fdb468b9573c0c5606823e3",
            "placeholder": "​",
            "style": "IPY_MODEL_9656eacf7c184fe5a873c5fd24088815",
            "value": "Sanity Checking DataLoader 0: 100%"
          }
        },
        "390c3b5e09cf446386455ec9c24c201e": {
          "model_module": "@jupyter-widgets/controls",
          "model_name": "FloatProgressModel",
          "model_module_version": "1.5.0",
          "state": {
            "_dom_classes": [],
            "_model_module": "@jupyter-widgets/controls",
            "_model_module_version": "1.5.0",
            "_model_name": "FloatProgressModel",
            "_view_count": null,
            "_view_module": "@jupyter-widgets/controls",
            "_view_module_version": "1.5.0",
            "_view_name": "ProgressView",
            "bar_style": "",
            "description": "",
            "description_tooltip": null,
            "layout": "IPY_MODEL_fafdb82dce224f2aad29b5b6f36d05b0",
            "max": 2,
            "min": 0,
            "orientation": "horizontal",
            "style": "IPY_MODEL_1cac8675e62b46408795965d18edb025",
            "value": 2
          }
        },
        "77b58f25f8e24c76ba84ef76b15dbeec": {
          "model_module": "@jupyter-widgets/controls",
          "model_name": "HTMLModel",
          "model_module_version": "1.5.0",
          "state": {
            "_dom_classes": [],
            "_model_module": "@jupyter-widgets/controls",
            "_model_module_version": "1.5.0",
            "_model_name": "HTMLModel",
            "_view_count": null,
            "_view_module": "@jupyter-widgets/controls",
            "_view_module_version": "1.5.0",
            "_view_name": "HTMLView",
            "description": "",
            "description_tooltip": null,
            "layout": "IPY_MODEL_0276239f18884cba948259fb5a322aae",
            "placeholder": "​",
            "style": "IPY_MODEL_b7bb33966c5a402087aad5c31b70b228",
            "value": " 2/2 [00:00&lt;00:00,  4.56it/s]"
          }
        },
        "fad5dc9b19fb40949d194220850837a4": {
          "model_module": "@jupyter-widgets/base",
          "model_name": "LayoutModel",
          "model_module_version": "1.2.0",
          "state": {
            "_model_module": "@jupyter-widgets/base",
            "_model_module_version": "1.2.0",
            "_model_name": "LayoutModel",
            "_view_count": null,
            "_view_module": "@jupyter-widgets/base",
            "_view_module_version": "1.2.0",
            "_view_name": "LayoutView",
            "align_content": null,
            "align_items": null,
            "align_self": null,
            "border": null,
            "bottom": null,
            "display": "inline-flex",
            "flex": null,
            "flex_flow": "row wrap",
            "grid_area": null,
            "grid_auto_columns": null,
            "grid_auto_flow": null,
            "grid_auto_rows": null,
            "grid_column": null,
            "grid_gap": null,
            "grid_row": null,
            "grid_template_areas": null,
            "grid_template_columns": null,
            "grid_template_rows": null,
            "height": null,
            "justify_content": null,
            "justify_items": null,
            "left": null,
            "margin": null,
            "max_height": null,
            "max_width": null,
            "min_height": null,
            "min_width": null,
            "object_fit": null,
            "object_position": null,
            "order": null,
            "overflow": null,
            "overflow_x": null,
            "overflow_y": null,
            "padding": null,
            "right": null,
            "top": null,
            "visibility": "hidden",
            "width": "100%"
          }
        },
        "74ab8e4c4fdb468b9573c0c5606823e3": {
          "model_module": "@jupyter-widgets/base",
          "model_name": "LayoutModel",
          "model_module_version": "1.2.0",
          "state": {
            "_model_module": "@jupyter-widgets/base",
            "_model_module_version": "1.2.0",
            "_model_name": "LayoutModel",
            "_view_count": null,
            "_view_module": "@jupyter-widgets/base",
            "_view_module_version": "1.2.0",
            "_view_name": "LayoutView",
            "align_content": null,
            "align_items": null,
            "align_self": null,
            "border": null,
            "bottom": null,
            "display": null,
            "flex": null,
            "flex_flow": null,
            "grid_area": null,
            "grid_auto_columns": null,
            "grid_auto_flow": null,
            "grid_auto_rows": null,
            "grid_column": null,
            "grid_gap": null,
            "grid_row": null,
            "grid_template_areas": null,
            "grid_template_columns": null,
            "grid_template_rows": null,
            "height": null,
            "justify_content": null,
            "justify_items": null,
            "left": null,
            "margin": null,
            "max_height": null,
            "max_width": null,
            "min_height": null,
            "min_width": null,
            "object_fit": null,
            "object_position": null,
            "order": null,
            "overflow": null,
            "overflow_x": null,
            "overflow_y": null,
            "padding": null,
            "right": null,
            "top": null,
            "visibility": null,
            "width": null
          }
        },
        "9656eacf7c184fe5a873c5fd24088815": {
          "model_module": "@jupyter-widgets/controls",
          "model_name": "DescriptionStyleModel",
          "model_module_version": "1.5.0",
          "state": {
            "_model_module": "@jupyter-widgets/controls",
            "_model_module_version": "1.5.0",
            "_model_name": "DescriptionStyleModel",
            "_view_count": null,
            "_view_module": "@jupyter-widgets/base",
            "_view_module_version": "1.2.0",
            "_view_name": "StyleView",
            "description_width": ""
          }
        },
        "fafdb82dce224f2aad29b5b6f36d05b0": {
          "model_module": "@jupyter-widgets/base",
          "model_name": "LayoutModel",
          "model_module_version": "1.2.0",
          "state": {
            "_model_module": "@jupyter-widgets/base",
            "_model_module_version": "1.2.0",
            "_model_name": "LayoutModel",
            "_view_count": null,
            "_view_module": "@jupyter-widgets/base",
            "_view_module_version": "1.2.0",
            "_view_name": "LayoutView",
            "align_content": null,
            "align_items": null,
            "align_self": null,
            "border": null,
            "bottom": null,
            "display": null,
            "flex": "2",
            "flex_flow": null,
            "grid_area": null,
            "grid_auto_columns": null,
            "grid_auto_flow": null,
            "grid_auto_rows": null,
            "grid_column": null,
            "grid_gap": null,
            "grid_row": null,
            "grid_template_areas": null,
            "grid_template_columns": null,
            "grid_template_rows": null,
            "height": null,
            "justify_content": null,
            "justify_items": null,
            "left": null,
            "margin": null,
            "max_height": null,
            "max_width": null,
            "min_height": null,
            "min_width": null,
            "object_fit": null,
            "object_position": null,
            "order": null,
            "overflow": null,
            "overflow_x": null,
            "overflow_y": null,
            "padding": null,
            "right": null,
            "top": null,
            "visibility": null,
            "width": null
          }
        },
        "1cac8675e62b46408795965d18edb025": {
          "model_module": "@jupyter-widgets/controls",
          "model_name": "ProgressStyleModel",
          "model_module_version": "1.5.0",
          "state": {
            "_model_module": "@jupyter-widgets/controls",
            "_model_module_version": "1.5.0",
            "_model_name": "ProgressStyleModel",
            "_view_count": null,
            "_view_module": "@jupyter-widgets/base",
            "_view_module_version": "1.2.0",
            "_view_name": "StyleView",
            "bar_color": null,
            "description_width": ""
          }
        },
        "0276239f18884cba948259fb5a322aae": {
          "model_module": "@jupyter-widgets/base",
          "model_name": "LayoutModel",
          "model_module_version": "1.2.0",
          "state": {
            "_model_module": "@jupyter-widgets/base",
            "_model_module_version": "1.2.0",
            "_model_name": "LayoutModel",
            "_view_count": null,
            "_view_module": "@jupyter-widgets/base",
            "_view_module_version": "1.2.0",
            "_view_name": "LayoutView",
            "align_content": null,
            "align_items": null,
            "align_self": null,
            "border": null,
            "bottom": null,
            "display": null,
            "flex": null,
            "flex_flow": null,
            "grid_area": null,
            "grid_auto_columns": null,
            "grid_auto_flow": null,
            "grid_auto_rows": null,
            "grid_column": null,
            "grid_gap": null,
            "grid_row": null,
            "grid_template_areas": null,
            "grid_template_columns": null,
            "grid_template_rows": null,
            "height": null,
            "justify_content": null,
            "justify_items": null,
            "left": null,
            "margin": null,
            "max_height": null,
            "max_width": null,
            "min_height": null,
            "min_width": null,
            "object_fit": null,
            "object_position": null,
            "order": null,
            "overflow": null,
            "overflow_x": null,
            "overflow_y": null,
            "padding": null,
            "right": null,
            "top": null,
            "visibility": null,
            "width": null
          }
        },
        "b7bb33966c5a402087aad5c31b70b228": {
          "model_module": "@jupyter-widgets/controls",
          "model_name": "DescriptionStyleModel",
          "model_module_version": "1.5.0",
          "state": {
            "_model_module": "@jupyter-widgets/controls",
            "_model_module_version": "1.5.0",
            "_model_name": "DescriptionStyleModel",
            "_view_count": null,
            "_view_module": "@jupyter-widgets/base",
            "_view_module_version": "1.2.0",
            "_view_name": "StyleView",
            "description_width": ""
          }
        },
        "19cb4b8f799d4f99b1fb4aabf8d6928e": {
          "model_module": "@jupyter-widgets/controls",
          "model_name": "HBoxModel",
          "model_module_version": "1.5.0",
          "state": {
            "_dom_classes": [],
            "_model_module": "@jupyter-widgets/controls",
            "_model_module_version": "1.5.0",
            "_model_name": "HBoxModel",
            "_view_count": null,
            "_view_module": "@jupyter-widgets/controls",
            "_view_module_version": "1.5.0",
            "_view_name": "HBoxView",
            "box_style": "",
            "children": [
              "IPY_MODEL_aa69d8b4eb8845d4840c3efb36aa5c8b",
              "IPY_MODEL_d97c1e1d48d049fda46f3bbfc8f5d5cf",
              "IPY_MODEL_55ccbf638f004b6b997345bb0fcf5bd3"
            ],
            "layout": "IPY_MODEL_6f2347146597433fb9b4f02edca7acea"
          }
        },
        "aa69d8b4eb8845d4840c3efb36aa5c8b": {
          "model_module": "@jupyter-widgets/controls",
          "model_name": "HTMLModel",
          "model_module_version": "1.5.0",
          "state": {
            "_dom_classes": [],
            "_model_module": "@jupyter-widgets/controls",
            "_model_module_version": "1.5.0",
            "_model_name": "HTMLModel",
            "_view_count": null,
            "_view_module": "@jupyter-widgets/controls",
            "_view_module_version": "1.5.0",
            "_view_name": "HTMLView",
            "description": "",
            "description_tooltip": null,
            "layout": "IPY_MODEL_460838a102404ea483f002934877d26f",
            "placeholder": "​",
            "style": "IPY_MODEL_f1d3dc8003694065957b30c55eb56954",
            "value": "Epoch 2: 100%"
          }
        },
        "d97c1e1d48d049fda46f3bbfc8f5d5cf": {
          "model_module": "@jupyter-widgets/controls",
          "model_name": "FloatProgressModel",
          "model_module_version": "1.5.0",
          "state": {
            "_dom_classes": [],
            "_model_module": "@jupyter-widgets/controls",
            "_model_module_version": "1.5.0",
            "_model_name": "FloatProgressModel",
            "_view_count": null,
            "_view_module": "@jupyter-widgets/controls",
            "_view_module_version": "1.5.0",
            "_view_name": "ProgressView",
            "bar_style": "success",
            "description": "",
            "description_tooltip": null,
            "layout": "IPY_MODEL_77a52cb147eb45b2ba06bd1df7a8c679",
            "max": 196,
            "min": 0,
            "orientation": "horizontal",
            "style": "IPY_MODEL_360c126439564b74838b4f87b014247f",
            "value": 196
          }
        },
        "55ccbf638f004b6b997345bb0fcf5bd3": {
          "model_module": "@jupyter-widgets/controls",
          "model_name": "HTMLModel",
          "model_module_version": "1.5.0",
          "state": {
            "_dom_classes": [],
            "_model_module": "@jupyter-widgets/controls",
            "_model_module_version": "1.5.0",
            "_model_name": "HTMLModel",
            "_view_count": null,
            "_view_module": "@jupyter-widgets/controls",
            "_view_module_version": "1.5.0",
            "_view_name": "HTMLView",
            "description": "",
            "description_tooltip": null,
            "layout": "IPY_MODEL_ceb533102de24711ad8bfef6a900ef14",
            "placeholder": "​",
            "style": "IPY_MODEL_d2ffa2fa9b59483e96f2ca117c3ee995",
            "value": " 196/196 [00:19&lt;00:00, 10.17it/s, v_num=0, train/reward=-3.98, train/loss=-0.0988, val/reward=-3.99]"
          }
        },
        "6f2347146597433fb9b4f02edca7acea": {
          "model_module": "@jupyter-widgets/base",
          "model_name": "LayoutModel",
          "model_module_version": "1.2.0",
          "state": {
            "_model_module": "@jupyter-widgets/base",
            "_model_module_version": "1.2.0",
            "_model_name": "LayoutModel",
            "_view_count": null,
            "_view_module": "@jupyter-widgets/base",
            "_view_module_version": "1.2.0",
            "_view_name": "LayoutView",
            "align_content": null,
            "align_items": null,
            "align_self": null,
            "border": null,
            "bottom": null,
            "display": "inline-flex",
            "flex": null,
            "flex_flow": "row wrap",
            "grid_area": null,
            "grid_auto_columns": null,
            "grid_auto_flow": null,
            "grid_auto_rows": null,
            "grid_column": null,
            "grid_gap": null,
            "grid_row": null,
            "grid_template_areas": null,
            "grid_template_columns": null,
            "grid_template_rows": null,
            "height": null,
            "justify_content": null,
            "justify_items": null,
            "left": null,
            "margin": null,
            "max_height": null,
            "max_width": null,
            "min_height": null,
            "min_width": null,
            "object_fit": null,
            "object_position": null,
            "order": null,
            "overflow": null,
            "overflow_x": null,
            "overflow_y": null,
            "padding": null,
            "right": null,
            "top": null,
            "visibility": null,
            "width": "100%"
          }
        },
        "460838a102404ea483f002934877d26f": {
          "model_module": "@jupyter-widgets/base",
          "model_name": "LayoutModel",
          "model_module_version": "1.2.0",
          "state": {
            "_model_module": "@jupyter-widgets/base",
            "_model_module_version": "1.2.0",
            "_model_name": "LayoutModel",
            "_view_count": null,
            "_view_module": "@jupyter-widgets/base",
            "_view_module_version": "1.2.0",
            "_view_name": "LayoutView",
            "align_content": null,
            "align_items": null,
            "align_self": null,
            "border": null,
            "bottom": null,
            "display": null,
            "flex": null,
            "flex_flow": null,
            "grid_area": null,
            "grid_auto_columns": null,
            "grid_auto_flow": null,
            "grid_auto_rows": null,
            "grid_column": null,
            "grid_gap": null,
            "grid_row": null,
            "grid_template_areas": null,
            "grid_template_columns": null,
            "grid_template_rows": null,
            "height": null,
            "justify_content": null,
            "justify_items": null,
            "left": null,
            "margin": null,
            "max_height": null,
            "max_width": null,
            "min_height": null,
            "min_width": null,
            "object_fit": null,
            "object_position": null,
            "order": null,
            "overflow": null,
            "overflow_x": null,
            "overflow_y": null,
            "padding": null,
            "right": null,
            "top": null,
            "visibility": null,
            "width": null
          }
        },
        "f1d3dc8003694065957b30c55eb56954": {
          "model_module": "@jupyter-widgets/controls",
          "model_name": "DescriptionStyleModel",
          "model_module_version": "1.5.0",
          "state": {
            "_model_module": "@jupyter-widgets/controls",
            "_model_module_version": "1.5.0",
            "_model_name": "DescriptionStyleModel",
            "_view_count": null,
            "_view_module": "@jupyter-widgets/base",
            "_view_module_version": "1.2.0",
            "_view_name": "StyleView",
            "description_width": ""
          }
        },
        "77a52cb147eb45b2ba06bd1df7a8c679": {
          "model_module": "@jupyter-widgets/base",
          "model_name": "LayoutModel",
          "model_module_version": "1.2.0",
          "state": {
            "_model_module": "@jupyter-widgets/base",
            "_model_module_version": "1.2.0",
            "_model_name": "LayoutModel",
            "_view_count": null,
            "_view_module": "@jupyter-widgets/base",
            "_view_module_version": "1.2.0",
            "_view_name": "LayoutView",
            "align_content": null,
            "align_items": null,
            "align_self": null,
            "border": null,
            "bottom": null,
            "display": null,
            "flex": "2",
            "flex_flow": null,
            "grid_area": null,
            "grid_auto_columns": null,
            "grid_auto_flow": null,
            "grid_auto_rows": null,
            "grid_column": null,
            "grid_gap": null,
            "grid_row": null,
            "grid_template_areas": null,
            "grid_template_columns": null,
            "grid_template_rows": null,
            "height": null,
            "justify_content": null,
            "justify_items": null,
            "left": null,
            "margin": null,
            "max_height": null,
            "max_width": null,
            "min_height": null,
            "min_width": null,
            "object_fit": null,
            "object_position": null,
            "order": null,
            "overflow": null,
            "overflow_x": null,
            "overflow_y": null,
            "padding": null,
            "right": null,
            "top": null,
            "visibility": null,
            "width": null
          }
        },
        "360c126439564b74838b4f87b014247f": {
          "model_module": "@jupyter-widgets/controls",
          "model_name": "ProgressStyleModel",
          "model_module_version": "1.5.0",
          "state": {
            "_model_module": "@jupyter-widgets/controls",
            "_model_module_version": "1.5.0",
            "_model_name": "ProgressStyleModel",
            "_view_count": null,
            "_view_module": "@jupyter-widgets/base",
            "_view_module_version": "1.2.0",
            "_view_name": "StyleView",
            "bar_color": null,
            "description_width": ""
          }
        },
        "ceb533102de24711ad8bfef6a900ef14": {
          "model_module": "@jupyter-widgets/base",
          "model_name": "LayoutModel",
          "model_module_version": "1.2.0",
          "state": {
            "_model_module": "@jupyter-widgets/base",
            "_model_module_version": "1.2.0",
            "_model_name": "LayoutModel",
            "_view_count": null,
            "_view_module": "@jupyter-widgets/base",
            "_view_module_version": "1.2.0",
            "_view_name": "LayoutView",
            "align_content": null,
            "align_items": null,
            "align_self": null,
            "border": null,
            "bottom": null,
            "display": null,
            "flex": null,
            "flex_flow": null,
            "grid_area": null,
            "grid_auto_columns": null,
            "grid_auto_flow": null,
            "grid_auto_rows": null,
            "grid_column": null,
            "grid_gap": null,
            "grid_row": null,
            "grid_template_areas": null,
            "grid_template_columns": null,
            "grid_template_rows": null,
            "height": null,
            "justify_content": null,
            "justify_items": null,
            "left": null,
            "margin": null,
            "max_height": null,
            "max_width": null,
            "min_height": null,
            "min_width": null,
            "object_fit": null,
            "object_position": null,
            "order": null,
            "overflow": null,
            "overflow_x": null,
            "overflow_y": null,
            "padding": null,
            "right": null,
            "top": null,
            "visibility": null,
            "width": null
          }
        },
        "d2ffa2fa9b59483e96f2ca117c3ee995": {
          "model_module": "@jupyter-widgets/controls",
          "model_name": "DescriptionStyleModel",
          "model_module_version": "1.5.0",
          "state": {
            "_model_module": "@jupyter-widgets/controls",
            "_model_module_version": "1.5.0",
            "_model_name": "DescriptionStyleModel",
            "_view_count": null,
            "_view_module": "@jupyter-widgets/base",
            "_view_module_version": "1.2.0",
            "_view_name": "StyleView",
            "description_width": ""
          }
        },
        "9559dd3bc0984f8f9a61945299a48f1d": {
          "model_module": "@jupyter-widgets/controls",
          "model_name": "HBoxModel",
          "model_module_version": "1.5.0",
          "state": {
            "_dom_classes": [],
            "_model_module": "@jupyter-widgets/controls",
            "_model_module_version": "1.5.0",
            "_model_name": "HBoxModel",
            "_view_count": null,
            "_view_module": "@jupyter-widgets/controls",
            "_view_module_version": "1.5.0",
            "_view_name": "HBoxView",
            "box_style": "",
            "children": [
              "IPY_MODEL_6059a12554b14cae81badd81dc9f0dd1",
              "IPY_MODEL_64dbd19fcfd54341b6d1138b878f91c9",
              "IPY_MODEL_1a64b354646b4de2ad4d47312033d067"
            ],
            "layout": "IPY_MODEL_9ef1ba55cb444f34b4b525b2f338f71d"
          }
        },
        "6059a12554b14cae81badd81dc9f0dd1": {
          "model_module": "@jupyter-widgets/controls",
          "model_name": "HTMLModel",
          "model_module_version": "1.5.0",
          "state": {
            "_dom_classes": [],
            "_model_module": "@jupyter-widgets/controls",
            "_model_module_version": "1.5.0",
            "_model_name": "HTMLModel",
            "_view_count": null,
            "_view_module": "@jupyter-widgets/controls",
            "_view_module_version": "1.5.0",
            "_view_name": "HTMLView",
            "description": "",
            "description_tooltip": null,
            "layout": "IPY_MODEL_f070f8040a9745a18ab6c63b86f11272",
            "placeholder": "​",
            "style": "IPY_MODEL_cecda496e5874910974ceeeb19180ea6",
            "value": "Validation DataLoader 0: 100%"
          }
        },
        "64dbd19fcfd54341b6d1138b878f91c9": {
          "model_module": "@jupyter-widgets/controls",
          "model_name": "FloatProgressModel",
          "model_module_version": "1.5.0",
          "state": {
            "_dom_classes": [],
            "_model_module": "@jupyter-widgets/controls",
            "_model_module_version": "1.5.0",
            "_model_name": "FloatProgressModel",
            "_view_count": null,
            "_view_module": "@jupyter-widgets/controls",
            "_view_module_version": "1.5.0",
            "_view_name": "ProgressView",
            "bar_style": "",
            "description": "",
            "description_tooltip": null,
            "layout": "IPY_MODEL_c83b6178c8b64839bc4165b5b0ebe5f6",
            "max": 20,
            "min": 0,
            "orientation": "horizontal",
            "style": "IPY_MODEL_2e982fb03d2d48009bdcfac0aececa2c",
            "value": 20
          }
        },
        "1a64b354646b4de2ad4d47312033d067": {
          "model_module": "@jupyter-widgets/controls",
          "model_name": "HTMLModel",
          "model_module_version": "1.5.0",
          "state": {
            "_dom_classes": [],
            "_model_module": "@jupyter-widgets/controls",
            "_model_module_version": "1.5.0",
            "_model_name": "HTMLModel",
            "_view_count": null,
            "_view_module": "@jupyter-widgets/controls",
            "_view_module_version": "1.5.0",
            "_view_name": "HTMLView",
            "description": "",
            "description_tooltip": null,
            "layout": "IPY_MODEL_637da9bf552c42d98e1d324fe4fb1296",
            "placeholder": "​",
            "style": "IPY_MODEL_55cb4b1da31f4d17bf6d4dc058f583ed",
            "value": " 20/20 [00:00&lt;00:00, 22.98it/s]"
          }
        },
        "9ef1ba55cb444f34b4b525b2f338f71d": {
          "model_module": "@jupyter-widgets/base",
          "model_name": "LayoutModel",
          "model_module_version": "1.2.0",
          "state": {
            "_model_module": "@jupyter-widgets/base",
            "_model_module_version": "1.2.0",
            "_model_name": "LayoutModel",
            "_view_count": null,
            "_view_module": "@jupyter-widgets/base",
            "_view_module_version": "1.2.0",
            "_view_name": "LayoutView",
            "align_content": null,
            "align_items": null,
            "align_self": null,
            "border": null,
            "bottom": null,
            "display": "inline-flex",
            "flex": null,
            "flex_flow": "row wrap",
            "grid_area": null,
            "grid_auto_columns": null,
            "grid_auto_flow": null,
            "grid_auto_rows": null,
            "grid_column": null,
            "grid_gap": null,
            "grid_row": null,
            "grid_template_areas": null,
            "grid_template_columns": null,
            "grid_template_rows": null,
            "height": null,
            "justify_content": null,
            "justify_items": null,
            "left": null,
            "margin": null,
            "max_height": null,
            "max_width": null,
            "min_height": null,
            "min_width": null,
            "object_fit": null,
            "object_position": null,
            "order": null,
            "overflow": null,
            "overflow_x": null,
            "overflow_y": null,
            "padding": null,
            "right": null,
            "top": null,
            "visibility": "hidden",
            "width": "100%"
          }
        },
        "f070f8040a9745a18ab6c63b86f11272": {
          "model_module": "@jupyter-widgets/base",
          "model_name": "LayoutModel",
          "model_module_version": "1.2.0",
          "state": {
            "_model_module": "@jupyter-widgets/base",
            "_model_module_version": "1.2.0",
            "_model_name": "LayoutModel",
            "_view_count": null,
            "_view_module": "@jupyter-widgets/base",
            "_view_module_version": "1.2.0",
            "_view_name": "LayoutView",
            "align_content": null,
            "align_items": null,
            "align_self": null,
            "border": null,
            "bottom": null,
            "display": null,
            "flex": null,
            "flex_flow": null,
            "grid_area": null,
            "grid_auto_columns": null,
            "grid_auto_flow": null,
            "grid_auto_rows": null,
            "grid_column": null,
            "grid_gap": null,
            "grid_row": null,
            "grid_template_areas": null,
            "grid_template_columns": null,
            "grid_template_rows": null,
            "height": null,
            "justify_content": null,
            "justify_items": null,
            "left": null,
            "margin": null,
            "max_height": null,
            "max_width": null,
            "min_height": null,
            "min_width": null,
            "object_fit": null,
            "object_position": null,
            "order": null,
            "overflow": null,
            "overflow_x": null,
            "overflow_y": null,
            "padding": null,
            "right": null,
            "top": null,
            "visibility": null,
            "width": null
          }
        },
        "cecda496e5874910974ceeeb19180ea6": {
          "model_module": "@jupyter-widgets/controls",
          "model_name": "DescriptionStyleModel",
          "model_module_version": "1.5.0",
          "state": {
            "_model_module": "@jupyter-widgets/controls",
            "_model_module_version": "1.5.0",
            "_model_name": "DescriptionStyleModel",
            "_view_count": null,
            "_view_module": "@jupyter-widgets/base",
            "_view_module_version": "1.2.0",
            "_view_name": "StyleView",
            "description_width": ""
          }
        },
        "c83b6178c8b64839bc4165b5b0ebe5f6": {
          "model_module": "@jupyter-widgets/base",
          "model_name": "LayoutModel",
          "model_module_version": "1.2.0",
          "state": {
            "_model_module": "@jupyter-widgets/base",
            "_model_module_version": "1.2.0",
            "_model_name": "LayoutModel",
            "_view_count": null,
            "_view_module": "@jupyter-widgets/base",
            "_view_module_version": "1.2.0",
            "_view_name": "LayoutView",
            "align_content": null,
            "align_items": null,
            "align_self": null,
            "border": null,
            "bottom": null,
            "display": null,
            "flex": "2",
            "flex_flow": null,
            "grid_area": null,
            "grid_auto_columns": null,
            "grid_auto_flow": null,
            "grid_auto_rows": null,
            "grid_column": null,
            "grid_gap": null,
            "grid_row": null,
            "grid_template_areas": null,
            "grid_template_columns": null,
            "grid_template_rows": null,
            "height": null,
            "justify_content": null,
            "justify_items": null,
            "left": null,
            "margin": null,
            "max_height": null,
            "max_width": null,
            "min_height": null,
            "min_width": null,
            "object_fit": null,
            "object_position": null,
            "order": null,
            "overflow": null,
            "overflow_x": null,
            "overflow_y": null,
            "padding": null,
            "right": null,
            "top": null,
            "visibility": null,
            "width": null
          }
        },
        "2e982fb03d2d48009bdcfac0aececa2c": {
          "model_module": "@jupyter-widgets/controls",
          "model_name": "ProgressStyleModel",
          "model_module_version": "1.5.0",
          "state": {
            "_model_module": "@jupyter-widgets/controls",
            "_model_module_version": "1.5.0",
            "_model_name": "ProgressStyleModel",
            "_view_count": null,
            "_view_module": "@jupyter-widgets/base",
            "_view_module_version": "1.2.0",
            "_view_name": "StyleView",
            "bar_color": null,
            "description_width": ""
          }
        },
        "637da9bf552c42d98e1d324fe4fb1296": {
          "model_module": "@jupyter-widgets/base",
          "model_name": "LayoutModel",
          "model_module_version": "1.2.0",
          "state": {
            "_model_module": "@jupyter-widgets/base",
            "_model_module_version": "1.2.0",
            "_model_name": "LayoutModel",
            "_view_count": null,
            "_view_module": "@jupyter-widgets/base",
            "_view_module_version": "1.2.0",
            "_view_name": "LayoutView",
            "align_content": null,
            "align_items": null,
            "align_self": null,
            "border": null,
            "bottom": null,
            "display": null,
            "flex": null,
            "flex_flow": null,
            "grid_area": null,
            "grid_auto_columns": null,
            "grid_auto_flow": null,
            "grid_auto_rows": null,
            "grid_column": null,
            "grid_gap": null,
            "grid_row": null,
            "grid_template_areas": null,
            "grid_template_columns": null,
            "grid_template_rows": null,
            "height": null,
            "justify_content": null,
            "justify_items": null,
            "left": null,
            "margin": null,
            "max_height": null,
            "max_width": null,
            "min_height": null,
            "min_width": null,
            "object_fit": null,
            "object_position": null,
            "order": null,
            "overflow": null,
            "overflow_x": null,
            "overflow_y": null,
            "padding": null,
            "right": null,
            "top": null,
            "visibility": null,
            "width": null
          }
        },
        "55cb4b1da31f4d17bf6d4dc058f583ed": {
          "model_module": "@jupyter-widgets/controls",
          "model_name": "DescriptionStyleModel",
          "model_module_version": "1.5.0",
          "state": {
            "_model_module": "@jupyter-widgets/controls",
            "_model_module_version": "1.5.0",
            "_model_name": "DescriptionStyleModel",
            "_view_count": null,
            "_view_module": "@jupyter-widgets/base",
            "_view_module_version": "1.2.0",
            "_view_name": "StyleView",
            "description_width": ""
          }
        },
        "a8f035eca0ab41cf8611eeb425ba9376": {
          "model_module": "@jupyter-widgets/controls",
          "model_name": "HBoxModel",
          "model_module_version": "1.5.0",
          "state": {
            "_dom_classes": [],
            "_model_module": "@jupyter-widgets/controls",
            "_model_module_version": "1.5.0",
            "_model_name": "HBoxModel",
            "_view_count": null,
            "_view_module": "@jupyter-widgets/controls",
            "_view_module_version": "1.5.0",
            "_view_name": "HBoxView",
            "box_style": "",
            "children": [
              "IPY_MODEL_580b6b48400242f2a0262ce733bf1591",
              "IPY_MODEL_4069cf8a99784db88bf5cc2d8f8d7eaa",
              "IPY_MODEL_b368f8e2b5564384b7b82d847f03eaf1"
            ],
            "layout": "IPY_MODEL_0d3b7963a0b04d96a8fed4607e92f5a4"
          }
        },
        "580b6b48400242f2a0262ce733bf1591": {
          "model_module": "@jupyter-widgets/controls",
          "model_name": "HTMLModel",
          "model_module_version": "1.5.0",
          "state": {
            "_dom_classes": [],
            "_model_module": "@jupyter-widgets/controls",
            "_model_module_version": "1.5.0",
            "_model_name": "HTMLModel",
            "_view_count": null,
            "_view_module": "@jupyter-widgets/controls",
            "_view_module_version": "1.5.0",
            "_view_name": "HTMLView",
            "description": "",
            "description_tooltip": null,
            "layout": "IPY_MODEL_63fe1dcff33642158feb3fe9e4d245a2",
            "placeholder": "​",
            "style": "IPY_MODEL_77af0066ab2f42c7bea0a800d87d8118",
            "value": "Validation DataLoader 0: 100%"
          }
        },
        "4069cf8a99784db88bf5cc2d8f8d7eaa": {
          "model_module": "@jupyter-widgets/controls",
          "model_name": "FloatProgressModel",
          "model_module_version": "1.5.0",
          "state": {
            "_dom_classes": [],
            "_model_module": "@jupyter-widgets/controls",
            "_model_module_version": "1.5.0",
            "_model_name": "FloatProgressModel",
            "_view_count": null,
            "_view_module": "@jupyter-widgets/controls",
            "_view_module_version": "1.5.0",
            "_view_name": "ProgressView",
            "bar_style": "",
            "description": "",
            "description_tooltip": null,
            "layout": "IPY_MODEL_ef9698b2a0dd47d9883af2983020fe6a",
            "max": 20,
            "min": 0,
            "orientation": "horizontal",
            "style": "IPY_MODEL_7a3218c808dd4b179efddb469d0f7fa0",
            "value": 20
          }
        },
        "b368f8e2b5564384b7b82d847f03eaf1": {
          "model_module": "@jupyter-widgets/controls",
          "model_name": "HTMLModel",
          "model_module_version": "1.5.0",
          "state": {
            "_dom_classes": [],
            "_model_module": "@jupyter-widgets/controls",
            "_model_module_version": "1.5.0",
            "_model_name": "HTMLModel",
            "_view_count": null,
            "_view_module": "@jupyter-widgets/controls",
            "_view_module_version": "1.5.0",
            "_view_name": "HTMLView",
            "description": "",
            "description_tooltip": null,
            "layout": "IPY_MODEL_e29ca0f90a7445eebaf952561b9dc23b",
            "placeholder": "​",
            "style": "IPY_MODEL_49d16a5343e240678b50a2d4b3f5c90a",
            "value": " 20/20 [00:00&lt;00:00, 29.02it/s]"
          }
        },
        "0d3b7963a0b04d96a8fed4607e92f5a4": {
          "model_module": "@jupyter-widgets/base",
          "model_name": "LayoutModel",
          "model_module_version": "1.2.0",
          "state": {
            "_model_module": "@jupyter-widgets/base",
            "_model_module_version": "1.2.0",
            "_model_name": "LayoutModel",
            "_view_count": null,
            "_view_module": "@jupyter-widgets/base",
            "_view_module_version": "1.2.0",
            "_view_name": "LayoutView",
            "align_content": null,
            "align_items": null,
            "align_self": null,
            "border": null,
            "bottom": null,
            "display": "inline-flex",
            "flex": null,
            "flex_flow": "row wrap",
            "grid_area": null,
            "grid_auto_columns": null,
            "grid_auto_flow": null,
            "grid_auto_rows": null,
            "grid_column": null,
            "grid_gap": null,
            "grid_row": null,
            "grid_template_areas": null,
            "grid_template_columns": null,
            "grid_template_rows": null,
            "height": null,
            "justify_content": null,
            "justify_items": null,
            "left": null,
            "margin": null,
            "max_height": null,
            "max_width": null,
            "min_height": null,
            "min_width": null,
            "object_fit": null,
            "object_position": null,
            "order": null,
            "overflow": null,
            "overflow_x": null,
            "overflow_y": null,
            "padding": null,
            "right": null,
            "top": null,
            "visibility": "hidden",
            "width": "100%"
          }
        },
        "63fe1dcff33642158feb3fe9e4d245a2": {
          "model_module": "@jupyter-widgets/base",
          "model_name": "LayoutModel",
          "model_module_version": "1.2.0",
          "state": {
            "_model_module": "@jupyter-widgets/base",
            "_model_module_version": "1.2.0",
            "_model_name": "LayoutModel",
            "_view_count": null,
            "_view_module": "@jupyter-widgets/base",
            "_view_module_version": "1.2.0",
            "_view_name": "LayoutView",
            "align_content": null,
            "align_items": null,
            "align_self": null,
            "border": null,
            "bottom": null,
            "display": null,
            "flex": null,
            "flex_flow": null,
            "grid_area": null,
            "grid_auto_columns": null,
            "grid_auto_flow": null,
            "grid_auto_rows": null,
            "grid_column": null,
            "grid_gap": null,
            "grid_row": null,
            "grid_template_areas": null,
            "grid_template_columns": null,
            "grid_template_rows": null,
            "height": null,
            "justify_content": null,
            "justify_items": null,
            "left": null,
            "margin": null,
            "max_height": null,
            "max_width": null,
            "min_height": null,
            "min_width": null,
            "object_fit": null,
            "object_position": null,
            "order": null,
            "overflow": null,
            "overflow_x": null,
            "overflow_y": null,
            "padding": null,
            "right": null,
            "top": null,
            "visibility": null,
            "width": null
          }
        },
        "77af0066ab2f42c7bea0a800d87d8118": {
          "model_module": "@jupyter-widgets/controls",
          "model_name": "DescriptionStyleModel",
          "model_module_version": "1.5.0",
          "state": {
            "_model_module": "@jupyter-widgets/controls",
            "_model_module_version": "1.5.0",
            "_model_name": "DescriptionStyleModel",
            "_view_count": null,
            "_view_module": "@jupyter-widgets/base",
            "_view_module_version": "1.2.0",
            "_view_name": "StyleView",
            "description_width": ""
          }
        },
        "ef9698b2a0dd47d9883af2983020fe6a": {
          "model_module": "@jupyter-widgets/base",
          "model_name": "LayoutModel",
          "model_module_version": "1.2.0",
          "state": {
            "_model_module": "@jupyter-widgets/base",
            "_model_module_version": "1.2.0",
            "_model_name": "LayoutModel",
            "_view_count": null,
            "_view_module": "@jupyter-widgets/base",
            "_view_module_version": "1.2.0",
            "_view_name": "LayoutView",
            "align_content": null,
            "align_items": null,
            "align_self": null,
            "border": null,
            "bottom": null,
            "display": null,
            "flex": "2",
            "flex_flow": null,
            "grid_area": null,
            "grid_auto_columns": null,
            "grid_auto_flow": null,
            "grid_auto_rows": null,
            "grid_column": null,
            "grid_gap": null,
            "grid_row": null,
            "grid_template_areas": null,
            "grid_template_columns": null,
            "grid_template_rows": null,
            "height": null,
            "justify_content": null,
            "justify_items": null,
            "left": null,
            "margin": null,
            "max_height": null,
            "max_width": null,
            "min_height": null,
            "min_width": null,
            "object_fit": null,
            "object_position": null,
            "order": null,
            "overflow": null,
            "overflow_x": null,
            "overflow_y": null,
            "padding": null,
            "right": null,
            "top": null,
            "visibility": null,
            "width": null
          }
        },
        "7a3218c808dd4b179efddb469d0f7fa0": {
          "model_module": "@jupyter-widgets/controls",
          "model_name": "ProgressStyleModel",
          "model_module_version": "1.5.0",
          "state": {
            "_model_module": "@jupyter-widgets/controls",
            "_model_module_version": "1.5.0",
            "_model_name": "ProgressStyleModel",
            "_view_count": null,
            "_view_module": "@jupyter-widgets/base",
            "_view_module_version": "1.2.0",
            "_view_name": "StyleView",
            "bar_color": null,
            "description_width": ""
          }
        },
        "e29ca0f90a7445eebaf952561b9dc23b": {
          "model_module": "@jupyter-widgets/base",
          "model_name": "LayoutModel",
          "model_module_version": "1.2.0",
          "state": {
            "_model_module": "@jupyter-widgets/base",
            "_model_module_version": "1.2.0",
            "_model_name": "LayoutModel",
            "_view_count": null,
            "_view_module": "@jupyter-widgets/base",
            "_view_module_version": "1.2.0",
            "_view_name": "LayoutView",
            "align_content": null,
            "align_items": null,
            "align_self": null,
            "border": null,
            "bottom": null,
            "display": null,
            "flex": null,
            "flex_flow": null,
            "grid_area": null,
            "grid_auto_columns": null,
            "grid_auto_flow": null,
            "grid_auto_rows": null,
            "grid_column": null,
            "grid_gap": null,
            "grid_row": null,
            "grid_template_areas": null,
            "grid_template_columns": null,
            "grid_template_rows": null,
            "height": null,
            "justify_content": null,
            "justify_items": null,
            "left": null,
            "margin": null,
            "max_height": null,
            "max_width": null,
            "min_height": null,
            "min_width": null,
            "object_fit": null,
            "object_position": null,
            "order": null,
            "overflow": null,
            "overflow_x": null,
            "overflow_y": null,
            "padding": null,
            "right": null,
            "top": null,
            "visibility": null,
            "width": null
          }
        },
        "49d16a5343e240678b50a2d4b3f5c90a": {
          "model_module": "@jupyter-widgets/controls",
          "model_name": "DescriptionStyleModel",
          "model_module_version": "1.5.0",
          "state": {
            "_model_module": "@jupyter-widgets/controls",
            "_model_module_version": "1.5.0",
            "_model_name": "DescriptionStyleModel",
            "_view_count": null,
            "_view_module": "@jupyter-widgets/base",
            "_view_module_version": "1.2.0",
            "_view_name": "StyleView",
            "description_width": ""
          }
        },
        "6575df032d244f58b48d038559d4d4db": {
          "model_module": "@jupyter-widgets/controls",
          "model_name": "HBoxModel",
          "model_module_version": "1.5.0",
          "state": {
            "_dom_classes": [],
            "_model_module": "@jupyter-widgets/controls",
            "_model_module_version": "1.5.0",
            "_model_name": "HBoxModel",
            "_view_count": null,
            "_view_module": "@jupyter-widgets/controls",
            "_view_module_version": "1.5.0",
            "_view_name": "HBoxView",
            "box_style": "",
            "children": [
              "IPY_MODEL_db65949fc1e84266a970bb37831c2677",
              "IPY_MODEL_4478ebabacb04feda71cfa660170321c",
              "IPY_MODEL_8f18ee856ab84aadb59939f6a3693182"
            ],
            "layout": "IPY_MODEL_8ec288aa7d8a4c46bb59a5b8884e64cd"
          }
        },
        "db65949fc1e84266a970bb37831c2677": {
          "model_module": "@jupyter-widgets/controls",
          "model_name": "HTMLModel",
          "model_module_version": "1.5.0",
          "state": {
            "_dom_classes": [],
            "_model_module": "@jupyter-widgets/controls",
            "_model_module_version": "1.5.0",
            "_model_name": "HTMLModel",
            "_view_count": null,
            "_view_module": "@jupyter-widgets/controls",
            "_view_module_version": "1.5.0",
            "_view_name": "HTMLView",
            "description": "",
            "description_tooltip": null,
            "layout": "IPY_MODEL_bc050b07c06049fd9b218e6bd1c9b1ba",
            "placeholder": "​",
            "style": "IPY_MODEL_60f627a57f624f4f8cd375fb5f8537a8",
            "value": "Validation DataLoader 0: 100%"
          }
        },
        "4478ebabacb04feda71cfa660170321c": {
          "model_module": "@jupyter-widgets/controls",
          "model_name": "FloatProgressModel",
          "model_module_version": "1.5.0",
          "state": {
            "_dom_classes": [],
            "_model_module": "@jupyter-widgets/controls",
            "_model_module_version": "1.5.0",
            "_model_name": "FloatProgressModel",
            "_view_count": null,
            "_view_module": "@jupyter-widgets/controls",
            "_view_module_version": "1.5.0",
            "_view_name": "ProgressView",
            "bar_style": "",
            "description": "",
            "description_tooltip": null,
            "layout": "IPY_MODEL_5d3b8415ebb74416a132a07108b9fdfc",
            "max": 20,
            "min": 0,
            "orientation": "horizontal",
            "style": "IPY_MODEL_f788ffc4cc094d9f925e86fb69031413",
            "value": 20
          }
        },
        "8f18ee856ab84aadb59939f6a3693182": {
          "model_module": "@jupyter-widgets/controls",
          "model_name": "HTMLModel",
          "model_module_version": "1.5.0",
          "state": {
            "_dom_classes": [],
            "_model_module": "@jupyter-widgets/controls",
            "_model_module_version": "1.5.0",
            "_model_name": "HTMLModel",
            "_view_count": null,
            "_view_module": "@jupyter-widgets/controls",
            "_view_module_version": "1.5.0",
            "_view_name": "HTMLView",
            "description": "",
            "description_tooltip": null,
            "layout": "IPY_MODEL_cf4699f96b5341eba06ab5c1e517b214",
            "placeholder": "​",
            "style": "IPY_MODEL_066be14f63354a2987c51bbfaa1ffa5a",
            "value": " 20/20 [00:00&lt;00:00, 28.71it/s]"
          }
        },
        "8ec288aa7d8a4c46bb59a5b8884e64cd": {
          "model_module": "@jupyter-widgets/base",
          "model_name": "LayoutModel",
          "model_module_version": "1.2.0",
          "state": {
            "_model_module": "@jupyter-widgets/base",
            "_model_module_version": "1.2.0",
            "_model_name": "LayoutModel",
            "_view_count": null,
            "_view_module": "@jupyter-widgets/base",
            "_view_module_version": "1.2.0",
            "_view_name": "LayoutView",
            "align_content": null,
            "align_items": null,
            "align_self": null,
            "border": null,
            "bottom": null,
            "display": "inline-flex",
            "flex": null,
            "flex_flow": "row wrap",
            "grid_area": null,
            "grid_auto_columns": null,
            "grid_auto_flow": null,
            "grid_auto_rows": null,
            "grid_column": null,
            "grid_gap": null,
            "grid_row": null,
            "grid_template_areas": null,
            "grid_template_columns": null,
            "grid_template_rows": null,
            "height": null,
            "justify_content": null,
            "justify_items": null,
            "left": null,
            "margin": null,
            "max_height": null,
            "max_width": null,
            "min_height": null,
            "min_width": null,
            "object_fit": null,
            "object_position": null,
            "order": null,
            "overflow": null,
            "overflow_x": null,
            "overflow_y": null,
            "padding": null,
            "right": null,
            "top": null,
            "visibility": "hidden",
            "width": "100%"
          }
        },
        "bc050b07c06049fd9b218e6bd1c9b1ba": {
          "model_module": "@jupyter-widgets/base",
          "model_name": "LayoutModel",
          "model_module_version": "1.2.0",
          "state": {
            "_model_module": "@jupyter-widgets/base",
            "_model_module_version": "1.2.0",
            "_model_name": "LayoutModel",
            "_view_count": null,
            "_view_module": "@jupyter-widgets/base",
            "_view_module_version": "1.2.0",
            "_view_name": "LayoutView",
            "align_content": null,
            "align_items": null,
            "align_self": null,
            "border": null,
            "bottom": null,
            "display": null,
            "flex": null,
            "flex_flow": null,
            "grid_area": null,
            "grid_auto_columns": null,
            "grid_auto_flow": null,
            "grid_auto_rows": null,
            "grid_column": null,
            "grid_gap": null,
            "grid_row": null,
            "grid_template_areas": null,
            "grid_template_columns": null,
            "grid_template_rows": null,
            "height": null,
            "justify_content": null,
            "justify_items": null,
            "left": null,
            "margin": null,
            "max_height": null,
            "max_width": null,
            "min_height": null,
            "min_width": null,
            "object_fit": null,
            "object_position": null,
            "order": null,
            "overflow": null,
            "overflow_x": null,
            "overflow_y": null,
            "padding": null,
            "right": null,
            "top": null,
            "visibility": null,
            "width": null
          }
        },
        "60f627a57f624f4f8cd375fb5f8537a8": {
          "model_module": "@jupyter-widgets/controls",
          "model_name": "DescriptionStyleModel",
          "model_module_version": "1.5.0",
          "state": {
            "_model_module": "@jupyter-widgets/controls",
            "_model_module_version": "1.5.0",
            "_model_name": "DescriptionStyleModel",
            "_view_count": null,
            "_view_module": "@jupyter-widgets/base",
            "_view_module_version": "1.2.0",
            "_view_name": "StyleView",
            "description_width": ""
          }
        },
        "5d3b8415ebb74416a132a07108b9fdfc": {
          "model_module": "@jupyter-widgets/base",
          "model_name": "LayoutModel",
          "model_module_version": "1.2.0",
          "state": {
            "_model_module": "@jupyter-widgets/base",
            "_model_module_version": "1.2.0",
            "_model_name": "LayoutModel",
            "_view_count": null,
            "_view_module": "@jupyter-widgets/base",
            "_view_module_version": "1.2.0",
            "_view_name": "LayoutView",
            "align_content": null,
            "align_items": null,
            "align_self": null,
            "border": null,
            "bottom": null,
            "display": null,
            "flex": "2",
            "flex_flow": null,
            "grid_area": null,
            "grid_auto_columns": null,
            "grid_auto_flow": null,
            "grid_auto_rows": null,
            "grid_column": null,
            "grid_gap": null,
            "grid_row": null,
            "grid_template_areas": null,
            "grid_template_columns": null,
            "grid_template_rows": null,
            "height": null,
            "justify_content": null,
            "justify_items": null,
            "left": null,
            "margin": null,
            "max_height": null,
            "max_width": null,
            "min_height": null,
            "min_width": null,
            "object_fit": null,
            "object_position": null,
            "order": null,
            "overflow": null,
            "overflow_x": null,
            "overflow_y": null,
            "padding": null,
            "right": null,
            "top": null,
            "visibility": null,
            "width": null
          }
        },
        "f788ffc4cc094d9f925e86fb69031413": {
          "model_module": "@jupyter-widgets/controls",
          "model_name": "ProgressStyleModel",
          "model_module_version": "1.5.0",
          "state": {
            "_model_module": "@jupyter-widgets/controls",
            "_model_module_version": "1.5.0",
            "_model_name": "ProgressStyleModel",
            "_view_count": null,
            "_view_module": "@jupyter-widgets/base",
            "_view_module_version": "1.2.0",
            "_view_name": "StyleView",
            "bar_color": null,
            "description_width": ""
          }
        },
        "cf4699f96b5341eba06ab5c1e517b214": {
          "model_module": "@jupyter-widgets/base",
          "model_name": "LayoutModel",
          "model_module_version": "1.2.0",
          "state": {
            "_model_module": "@jupyter-widgets/base",
            "_model_module_version": "1.2.0",
            "_model_name": "LayoutModel",
            "_view_count": null,
            "_view_module": "@jupyter-widgets/base",
            "_view_module_version": "1.2.0",
            "_view_name": "LayoutView",
            "align_content": null,
            "align_items": null,
            "align_self": null,
            "border": null,
            "bottom": null,
            "display": null,
            "flex": null,
            "flex_flow": null,
            "grid_area": null,
            "grid_auto_columns": null,
            "grid_auto_flow": null,
            "grid_auto_rows": null,
            "grid_column": null,
            "grid_gap": null,
            "grid_row": null,
            "grid_template_areas": null,
            "grid_template_columns": null,
            "grid_template_rows": null,
            "height": null,
            "justify_content": null,
            "justify_items": null,
            "left": null,
            "margin": null,
            "max_height": null,
            "max_width": null,
            "min_height": null,
            "min_width": null,
            "object_fit": null,
            "object_position": null,
            "order": null,
            "overflow": null,
            "overflow_x": null,
            "overflow_y": null,
            "padding": null,
            "right": null,
            "top": null,
            "visibility": null,
            "width": null
          }
        },
        "066be14f63354a2987c51bbfaa1ffa5a": {
          "model_module": "@jupyter-widgets/controls",
          "model_name": "DescriptionStyleModel",
          "model_module_version": "1.5.0",
          "state": {
            "_model_module": "@jupyter-widgets/controls",
            "_model_module_version": "1.5.0",
            "_model_name": "DescriptionStyleModel",
            "_view_count": null,
            "_view_module": "@jupyter-widgets/base",
            "_view_module_version": "1.2.0",
            "_view_name": "StyleView",
            "description_width": ""
          }
        }
      }
    }
  },
  "nbformat": 4,
  "nbformat_minor": 0
}